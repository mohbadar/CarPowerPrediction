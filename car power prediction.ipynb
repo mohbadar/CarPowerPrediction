{
 "cells": [
  {
   "cell_type": "code",
   "execution_count": 1,
   "metadata": {
    "collapsed": true
   },
   "outputs": [],
   "source": [
    "import graphlab as gr"
   ]
  },
  {
   "cell_type": "code",
   "execution_count": 4,
   "metadata": {
    "collapsed": false
   },
   "outputs": [
    {
     "data": {
      "text/html": [
       "<pre>Finished parsing file C:\\Users\\Moh.BadarHashimi\\Desktop\\yousuf\\cars.csv</pre>"
      ],
      "text/plain": [
       "Finished parsing file C:\\Users\\Moh.BadarHashimi\\Desktop\\yousuf\\cars.csv"
      ]
     },
     "metadata": {},
     "output_type": "display_data"
    },
    {
     "data": {
      "text/html": [
       "<pre>Parsing completed. Parsed 100 lines in 0.046875 secs.</pre>"
      ],
      "text/plain": [
       "Parsing completed. Parsed 100 lines in 0.046875 secs."
      ]
     },
     "metadata": {},
     "output_type": "display_data"
    },
    {
     "name": "stdout",
     "output_type": "stream",
     "text": [
      "------------------------------------------------------\n",
      "Inferred types from first 100 line(s) of file as \n",
      "column_type_hints=[str,long,long,float,long,long,float,long,str]\n",
      "If parsing fails due to incorrect types, you can correct\n",
      "the inferred type list above and pass it to read_csv in\n",
      "the column_type_hints argument\n",
      "------------------------------------------------------\n"
     ]
    },
    {
     "data": {
      "text/html": [
       "<pre>Finished parsing file C:\\Users\\Moh.BadarHashimi\\Desktop\\yousuf\\cars.csv</pre>"
      ],
      "text/plain": [
       "Finished parsing file C:\\Users\\Moh.BadarHashimi\\Desktop\\yousuf\\cars.csv"
      ]
     },
     "metadata": {},
     "output_type": "display_data"
    },
    {
     "data": {
      "text/html": [
       "<pre>Parsing completed. Parsed 406 lines in 0.062561 secs.</pre>"
      ],
      "text/plain": [
       "Parsing completed. Parsed 406 lines in 0.062561 secs."
      ]
     },
     "metadata": {},
     "output_type": "display_data"
    }
   ],
   "source": [
    "my_data = gr.SFrame.read_csv('cars.csv')"
   ]
  },
  {
   "cell_type": "code",
   "execution_count": 5,
   "metadata": {
    "collapsed": false
   },
   "outputs": [
    {
     "data": {
      "text/html": [
       "<div style=\"max-height:1000px;max-width:1500px;overflow:auto;\"><table frame=\"box\" rules=\"cols\">\n",
       "    <tr>\n",
       "        <th style=\"padding-left: 1em; padding-right: 1em; text-align: center\">Car</th>\n",
       "        <th style=\"padding-left: 1em; padding-right: 1em; text-align: center\">MPG</th>\n",
       "        <th style=\"padding-left: 1em; padding-right: 1em; text-align: center\">Cylinders</th>\n",
       "        <th style=\"padding-left: 1em; padding-right: 1em; text-align: center\">Displacement</th>\n",
       "        <th style=\"padding-left: 1em; padding-right: 1em; text-align: center\">Horsepower</th>\n",
       "        <th style=\"padding-left: 1em; padding-right: 1em; text-align: center\">Weight</th>\n",
       "        <th style=\"padding-left: 1em; padding-right: 1em; text-align: center\">Acceleration</th>\n",
       "        <th style=\"padding-left: 1em; padding-right: 1em; text-align: center\">Model</th>\n",
       "        <th style=\"padding-left: 1em; padding-right: 1em; text-align: center\">Origin</th>\n",
       "    </tr>\n",
       "    <tr>\n",
       "        <td style=\"padding-left: 1em; padding-right: 1em; text-align: center; vertical-align: top\">Chevrolet Chevelle Malibu</td>\n",
       "        <td style=\"padding-left: 1em; padding-right: 1em; text-align: center; vertical-align: top\">18</td>\n",
       "        <td style=\"padding-left: 1em; padding-right: 1em; text-align: center; vertical-align: top\">8</td>\n",
       "        <td style=\"padding-left: 1em; padding-right: 1em; text-align: center; vertical-align: top\">307.0</td>\n",
       "        <td style=\"padding-left: 1em; padding-right: 1em; text-align: center; vertical-align: top\">130</td>\n",
       "        <td style=\"padding-left: 1em; padding-right: 1em; text-align: center; vertical-align: top\">3504</td>\n",
       "        <td style=\"padding-left: 1em; padding-right: 1em; text-align: center; vertical-align: top\">12.0</td>\n",
       "        <td style=\"padding-left: 1em; padding-right: 1em; text-align: center; vertical-align: top\">70</td>\n",
       "        <td style=\"padding-left: 1em; padding-right: 1em; text-align: center; vertical-align: top\">US</td>\n",
       "    </tr>\n",
       "    <tr>\n",
       "        <td style=\"padding-left: 1em; padding-right: 1em; text-align: center; vertical-align: top\">Buick Skylark 320</td>\n",
       "        <td style=\"padding-left: 1em; padding-right: 1em; text-align: center; vertical-align: top\">15</td>\n",
       "        <td style=\"padding-left: 1em; padding-right: 1em; text-align: center; vertical-align: top\">8</td>\n",
       "        <td style=\"padding-left: 1em; padding-right: 1em; text-align: center; vertical-align: top\">350.0</td>\n",
       "        <td style=\"padding-left: 1em; padding-right: 1em; text-align: center; vertical-align: top\">165</td>\n",
       "        <td style=\"padding-left: 1em; padding-right: 1em; text-align: center; vertical-align: top\">3693</td>\n",
       "        <td style=\"padding-left: 1em; padding-right: 1em; text-align: center; vertical-align: top\">11.5</td>\n",
       "        <td style=\"padding-left: 1em; padding-right: 1em; text-align: center; vertical-align: top\">70</td>\n",
       "        <td style=\"padding-left: 1em; padding-right: 1em; text-align: center; vertical-align: top\">US</td>\n",
       "    </tr>\n",
       "    <tr>\n",
       "        <td style=\"padding-left: 1em; padding-right: 1em; text-align: center; vertical-align: top\">Plymouth Satellite</td>\n",
       "        <td style=\"padding-left: 1em; padding-right: 1em; text-align: center; vertical-align: top\">18</td>\n",
       "        <td style=\"padding-left: 1em; padding-right: 1em; text-align: center; vertical-align: top\">8</td>\n",
       "        <td style=\"padding-left: 1em; padding-right: 1em; text-align: center; vertical-align: top\">318.0</td>\n",
       "        <td style=\"padding-left: 1em; padding-right: 1em; text-align: center; vertical-align: top\">150</td>\n",
       "        <td style=\"padding-left: 1em; padding-right: 1em; text-align: center; vertical-align: top\">3436</td>\n",
       "        <td style=\"padding-left: 1em; padding-right: 1em; text-align: center; vertical-align: top\">11.0</td>\n",
       "        <td style=\"padding-left: 1em; padding-right: 1em; text-align: center; vertical-align: top\">70</td>\n",
       "        <td style=\"padding-left: 1em; padding-right: 1em; text-align: center; vertical-align: top\">US</td>\n",
       "    </tr>\n",
       "    <tr>\n",
       "        <td style=\"padding-left: 1em; padding-right: 1em; text-align: center; vertical-align: top\">AMC Rebel SST</td>\n",
       "        <td style=\"padding-left: 1em; padding-right: 1em; text-align: center; vertical-align: top\">16</td>\n",
       "        <td style=\"padding-left: 1em; padding-right: 1em; text-align: center; vertical-align: top\">8</td>\n",
       "        <td style=\"padding-left: 1em; padding-right: 1em; text-align: center; vertical-align: top\">304.0</td>\n",
       "        <td style=\"padding-left: 1em; padding-right: 1em; text-align: center; vertical-align: top\">150</td>\n",
       "        <td style=\"padding-left: 1em; padding-right: 1em; text-align: center; vertical-align: top\">3433</td>\n",
       "        <td style=\"padding-left: 1em; padding-right: 1em; text-align: center; vertical-align: top\">12.0</td>\n",
       "        <td style=\"padding-left: 1em; padding-right: 1em; text-align: center; vertical-align: top\">70</td>\n",
       "        <td style=\"padding-left: 1em; padding-right: 1em; text-align: center; vertical-align: top\">US</td>\n",
       "    </tr>\n",
       "    <tr>\n",
       "        <td style=\"padding-left: 1em; padding-right: 1em; text-align: center; vertical-align: top\">Ford Torino</td>\n",
       "        <td style=\"padding-left: 1em; padding-right: 1em; text-align: center; vertical-align: top\">17</td>\n",
       "        <td style=\"padding-left: 1em; padding-right: 1em; text-align: center; vertical-align: top\">8</td>\n",
       "        <td style=\"padding-left: 1em; padding-right: 1em; text-align: center; vertical-align: top\">302.0</td>\n",
       "        <td style=\"padding-left: 1em; padding-right: 1em; text-align: center; vertical-align: top\">140</td>\n",
       "        <td style=\"padding-left: 1em; padding-right: 1em; text-align: center; vertical-align: top\">3449</td>\n",
       "        <td style=\"padding-left: 1em; padding-right: 1em; text-align: center; vertical-align: top\">10.5</td>\n",
       "        <td style=\"padding-left: 1em; padding-right: 1em; text-align: center; vertical-align: top\">70</td>\n",
       "        <td style=\"padding-left: 1em; padding-right: 1em; text-align: center; vertical-align: top\">US</td>\n",
       "    </tr>\n",
       "    <tr>\n",
       "        <td style=\"padding-left: 1em; padding-right: 1em; text-align: center; vertical-align: top\">Ford Galaxie 500</td>\n",
       "        <td style=\"padding-left: 1em; padding-right: 1em; text-align: center; vertical-align: top\">15</td>\n",
       "        <td style=\"padding-left: 1em; padding-right: 1em; text-align: center; vertical-align: top\">8</td>\n",
       "        <td style=\"padding-left: 1em; padding-right: 1em; text-align: center; vertical-align: top\">429.0</td>\n",
       "        <td style=\"padding-left: 1em; padding-right: 1em; text-align: center; vertical-align: top\">198</td>\n",
       "        <td style=\"padding-left: 1em; padding-right: 1em; text-align: center; vertical-align: top\">4341</td>\n",
       "        <td style=\"padding-left: 1em; padding-right: 1em; text-align: center; vertical-align: top\">10.0</td>\n",
       "        <td style=\"padding-left: 1em; padding-right: 1em; text-align: center; vertical-align: top\">70</td>\n",
       "        <td style=\"padding-left: 1em; padding-right: 1em; text-align: center; vertical-align: top\">US</td>\n",
       "    </tr>\n",
       "    <tr>\n",
       "        <td style=\"padding-left: 1em; padding-right: 1em; text-align: center; vertical-align: top\">Chevrolet Impala</td>\n",
       "        <td style=\"padding-left: 1em; padding-right: 1em; text-align: center; vertical-align: top\">14</td>\n",
       "        <td style=\"padding-left: 1em; padding-right: 1em; text-align: center; vertical-align: top\">8</td>\n",
       "        <td style=\"padding-left: 1em; padding-right: 1em; text-align: center; vertical-align: top\">454.0</td>\n",
       "        <td style=\"padding-left: 1em; padding-right: 1em; text-align: center; vertical-align: top\">220</td>\n",
       "        <td style=\"padding-left: 1em; padding-right: 1em; text-align: center; vertical-align: top\">4354</td>\n",
       "        <td style=\"padding-left: 1em; padding-right: 1em; text-align: center; vertical-align: top\">9.0</td>\n",
       "        <td style=\"padding-left: 1em; padding-right: 1em; text-align: center; vertical-align: top\">70</td>\n",
       "        <td style=\"padding-left: 1em; padding-right: 1em; text-align: center; vertical-align: top\">US</td>\n",
       "    </tr>\n",
       "    <tr>\n",
       "        <td style=\"padding-left: 1em; padding-right: 1em; text-align: center; vertical-align: top\">Plymouth Fury iii</td>\n",
       "        <td style=\"padding-left: 1em; padding-right: 1em; text-align: center; vertical-align: top\">14</td>\n",
       "        <td style=\"padding-left: 1em; padding-right: 1em; text-align: center; vertical-align: top\">8</td>\n",
       "        <td style=\"padding-left: 1em; padding-right: 1em; text-align: center; vertical-align: top\">440.0</td>\n",
       "        <td style=\"padding-left: 1em; padding-right: 1em; text-align: center; vertical-align: top\">215</td>\n",
       "        <td style=\"padding-left: 1em; padding-right: 1em; text-align: center; vertical-align: top\">4312</td>\n",
       "        <td style=\"padding-left: 1em; padding-right: 1em; text-align: center; vertical-align: top\">8.5</td>\n",
       "        <td style=\"padding-left: 1em; padding-right: 1em; text-align: center; vertical-align: top\">70</td>\n",
       "        <td style=\"padding-left: 1em; padding-right: 1em; text-align: center; vertical-align: top\">US</td>\n",
       "    </tr>\n",
       "    <tr>\n",
       "        <td style=\"padding-left: 1em; padding-right: 1em; text-align: center; vertical-align: top\">Pontiac Catalina</td>\n",
       "        <td style=\"padding-left: 1em; padding-right: 1em; text-align: center; vertical-align: top\">14</td>\n",
       "        <td style=\"padding-left: 1em; padding-right: 1em; text-align: center; vertical-align: top\">8</td>\n",
       "        <td style=\"padding-left: 1em; padding-right: 1em; text-align: center; vertical-align: top\">455.0</td>\n",
       "        <td style=\"padding-left: 1em; padding-right: 1em; text-align: center; vertical-align: top\">225</td>\n",
       "        <td style=\"padding-left: 1em; padding-right: 1em; text-align: center; vertical-align: top\">4425</td>\n",
       "        <td style=\"padding-left: 1em; padding-right: 1em; text-align: center; vertical-align: top\">10.0</td>\n",
       "        <td style=\"padding-left: 1em; padding-right: 1em; text-align: center; vertical-align: top\">70</td>\n",
       "        <td style=\"padding-left: 1em; padding-right: 1em; text-align: center; vertical-align: top\">US</td>\n",
       "    </tr>\n",
       "    <tr>\n",
       "        <td style=\"padding-left: 1em; padding-right: 1em; text-align: center; vertical-align: top\">AMC Ambassador DPL</td>\n",
       "        <td style=\"padding-left: 1em; padding-right: 1em; text-align: center; vertical-align: top\">15</td>\n",
       "        <td style=\"padding-left: 1em; padding-right: 1em; text-align: center; vertical-align: top\">8</td>\n",
       "        <td style=\"padding-left: 1em; padding-right: 1em; text-align: center; vertical-align: top\">390.0</td>\n",
       "        <td style=\"padding-left: 1em; padding-right: 1em; text-align: center; vertical-align: top\">190</td>\n",
       "        <td style=\"padding-left: 1em; padding-right: 1em; text-align: center; vertical-align: top\">3850</td>\n",
       "        <td style=\"padding-left: 1em; padding-right: 1em; text-align: center; vertical-align: top\">8.5</td>\n",
       "        <td style=\"padding-left: 1em; padding-right: 1em; text-align: center; vertical-align: top\">70</td>\n",
       "        <td style=\"padding-left: 1em; padding-right: 1em; text-align: center; vertical-align: top\">US</td>\n",
       "    </tr>\n",
       "</table>\n",
       "[406 rows x 9 columns]<br/>Note: Only the head of the SFrame is printed.<br/>You can use print_rows(num_rows=m, num_columns=n) to print more rows and columns.\n",
       "</div>"
      ],
      "text/plain": [
       "Columns:\n",
       "\tCar\tstr\n",
       "\tMPG\tint\n",
       "\tCylinders\tint\n",
       "\tDisplacement\tfloat\n",
       "\tHorsepower\tint\n",
       "\tWeight\tint\n",
       "\tAcceleration\tfloat\n",
       "\tModel\tint\n",
       "\tOrigin\tstr\n",
       "\n",
       "Rows: 406\n",
       "\n",
       "Data:\n",
       "+---------------------------+-----+-----------+--------------+------------+--------+\n",
       "|            Car            | MPG | Cylinders | Displacement | Horsepower | Weight |\n",
       "+---------------------------+-----+-----------+--------------+------------+--------+\n",
       "| Chevrolet Chevelle Malibu |  18 |     8     |    307.0     |    130     |  3504  |\n",
       "|     Buick Skylark 320     |  15 |     8     |    350.0     |    165     |  3693  |\n",
       "|     Plymouth Satellite    |  18 |     8     |    318.0     |    150     |  3436  |\n",
       "|       AMC Rebel SST       |  16 |     8     |    304.0     |    150     |  3433  |\n",
       "|        Ford Torino        |  17 |     8     |    302.0     |    140     |  3449  |\n",
       "|      Ford Galaxie 500     |  15 |     8     |    429.0     |    198     |  4341  |\n",
       "|      Chevrolet Impala     |  14 |     8     |    454.0     |    220     |  4354  |\n",
       "|     Plymouth Fury iii     |  14 |     8     |    440.0     |    215     |  4312  |\n",
       "|      Pontiac Catalina     |  14 |     8     |    455.0     |    225     |  4425  |\n",
       "|     AMC Ambassador DPL    |  15 |     8     |    390.0     |    190     |  3850  |\n",
       "+---------------------------+-----+-----------+--------------+------------+--------+\n",
       "+--------------+-------+--------+\n",
       "| Acceleration | Model | Origin |\n",
       "+--------------+-------+--------+\n",
       "|     12.0     |   70  |   US   |\n",
       "|     11.5     |   70  |   US   |\n",
       "|     11.0     |   70  |   US   |\n",
       "|     12.0     |   70  |   US   |\n",
       "|     10.5     |   70  |   US   |\n",
       "|     10.0     |   70  |   US   |\n",
       "|     9.0      |   70  |   US   |\n",
       "|     8.5      |   70  |   US   |\n",
       "|     10.0     |   70  |   US   |\n",
       "|     8.5      |   70  |   US   |\n",
       "+--------------+-------+--------+\n",
       "[406 rows x 9 columns]\n",
       "Note: Only the head of the SFrame is printed.\n",
       "You can use print_rows(num_rows=m, num_columns=n) to print more rows and columns."
      ]
     },
     "execution_count": 5,
     "metadata": {},
     "output_type": "execute_result"
    }
   ],
   "source": [
    "my_data"
   ]
  },
  {
   "cell_type": "code",
   "execution_count": 8,
   "metadata": {
    "collapsed": true
   },
   "outputs": [],
   "source": [
    "train , test = my_data.random_split(.8,seed=0)"
   ]
  },
  {
   "cell_type": "code",
   "execution_count": 11,
   "metadata": {
    "collapsed": false
   },
   "outputs": [
    {
     "data": {
      "text/html": [
       "<div style=\"max-height:1000px;max-width:1500px;overflow:auto;\"><table frame=\"box\" rules=\"cols\">\n",
       "    <tr>\n",
       "        <th style=\"padding-left: 1em; padding-right: 1em; text-align: center\">Car</th>\n",
       "        <th style=\"padding-left: 1em; padding-right: 1em; text-align: center\">MPG</th>\n",
       "        <th style=\"padding-left: 1em; padding-right: 1em; text-align: center\">Cylinders</th>\n",
       "        <th style=\"padding-left: 1em; padding-right: 1em; text-align: center\">Displacement</th>\n",
       "        <th style=\"padding-left: 1em; padding-right: 1em; text-align: center\">Horsepower</th>\n",
       "        <th style=\"padding-left: 1em; padding-right: 1em; text-align: center\">Weight</th>\n",
       "        <th style=\"padding-left: 1em; padding-right: 1em; text-align: center\">Acceleration</th>\n",
       "        <th style=\"padding-left: 1em; padding-right: 1em; text-align: center\">Model</th>\n",
       "        <th style=\"padding-left: 1em; padding-right: 1em; text-align: center\">Origin</th>\n",
       "    </tr>\n",
       "    <tr>\n",
       "        <td style=\"padding-left: 1em; padding-right: 1em; text-align: center; vertical-align: top\">Chevrolet Chevelle Malibu</td>\n",
       "        <td style=\"padding-left: 1em; padding-right: 1em; text-align: center; vertical-align: top\">18</td>\n",
       "        <td style=\"padding-left: 1em; padding-right: 1em; text-align: center; vertical-align: top\">8</td>\n",
       "        <td style=\"padding-left: 1em; padding-right: 1em; text-align: center; vertical-align: top\">307.0</td>\n",
       "        <td style=\"padding-left: 1em; padding-right: 1em; text-align: center; vertical-align: top\">130</td>\n",
       "        <td style=\"padding-left: 1em; padding-right: 1em; text-align: center; vertical-align: top\">3504</td>\n",
       "        <td style=\"padding-left: 1em; padding-right: 1em; text-align: center; vertical-align: top\">12.0</td>\n",
       "        <td style=\"padding-left: 1em; padding-right: 1em; text-align: center; vertical-align: top\">70</td>\n",
       "        <td style=\"padding-left: 1em; padding-right: 1em; text-align: center; vertical-align: top\">US</td>\n",
       "    </tr>\n",
       "    <tr>\n",
       "        <td style=\"padding-left: 1em; padding-right: 1em; text-align: center; vertical-align: top\">Buick Skylark 320</td>\n",
       "        <td style=\"padding-left: 1em; padding-right: 1em; text-align: center; vertical-align: top\">15</td>\n",
       "        <td style=\"padding-left: 1em; padding-right: 1em; text-align: center; vertical-align: top\">8</td>\n",
       "        <td style=\"padding-left: 1em; padding-right: 1em; text-align: center; vertical-align: top\">350.0</td>\n",
       "        <td style=\"padding-left: 1em; padding-right: 1em; text-align: center; vertical-align: top\">165</td>\n",
       "        <td style=\"padding-left: 1em; padding-right: 1em; text-align: center; vertical-align: top\">3693</td>\n",
       "        <td style=\"padding-left: 1em; padding-right: 1em; text-align: center; vertical-align: top\">11.5</td>\n",
       "        <td style=\"padding-left: 1em; padding-right: 1em; text-align: center; vertical-align: top\">70</td>\n",
       "        <td style=\"padding-left: 1em; padding-right: 1em; text-align: center; vertical-align: top\">US</td>\n",
       "    </tr>\n",
       "    <tr>\n",
       "        <td style=\"padding-left: 1em; padding-right: 1em; text-align: center; vertical-align: top\">Plymouth Satellite</td>\n",
       "        <td style=\"padding-left: 1em; padding-right: 1em; text-align: center; vertical-align: top\">18</td>\n",
       "        <td style=\"padding-left: 1em; padding-right: 1em; text-align: center; vertical-align: top\">8</td>\n",
       "        <td style=\"padding-left: 1em; padding-right: 1em; text-align: center; vertical-align: top\">318.0</td>\n",
       "        <td style=\"padding-left: 1em; padding-right: 1em; text-align: center; vertical-align: top\">150</td>\n",
       "        <td style=\"padding-left: 1em; padding-right: 1em; text-align: center; vertical-align: top\">3436</td>\n",
       "        <td style=\"padding-left: 1em; padding-right: 1em; text-align: center; vertical-align: top\">11.0</td>\n",
       "        <td style=\"padding-left: 1em; padding-right: 1em; text-align: center; vertical-align: top\">70</td>\n",
       "        <td style=\"padding-left: 1em; padding-right: 1em; text-align: center; vertical-align: top\">US</td>\n",
       "    </tr>\n",
       "    <tr>\n",
       "        <td style=\"padding-left: 1em; padding-right: 1em; text-align: center; vertical-align: top\">AMC Rebel SST</td>\n",
       "        <td style=\"padding-left: 1em; padding-right: 1em; text-align: center; vertical-align: top\">16</td>\n",
       "        <td style=\"padding-left: 1em; padding-right: 1em; text-align: center; vertical-align: top\">8</td>\n",
       "        <td style=\"padding-left: 1em; padding-right: 1em; text-align: center; vertical-align: top\">304.0</td>\n",
       "        <td style=\"padding-left: 1em; padding-right: 1em; text-align: center; vertical-align: top\">150</td>\n",
       "        <td style=\"padding-left: 1em; padding-right: 1em; text-align: center; vertical-align: top\">3433</td>\n",
       "        <td style=\"padding-left: 1em; padding-right: 1em; text-align: center; vertical-align: top\">12.0</td>\n",
       "        <td style=\"padding-left: 1em; padding-right: 1em; text-align: center; vertical-align: top\">70</td>\n",
       "        <td style=\"padding-left: 1em; padding-right: 1em; text-align: center; vertical-align: top\">US</td>\n",
       "    </tr>\n",
       "    <tr>\n",
       "        <td style=\"padding-left: 1em; padding-right: 1em; text-align: center; vertical-align: top\">Ford Torino</td>\n",
       "        <td style=\"padding-left: 1em; padding-right: 1em; text-align: center; vertical-align: top\">17</td>\n",
       "        <td style=\"padding-left: 1em; padding-right: 1em; text-align: center; vertical-align: top\">8</td>\n",
       "        <td style=\"padding-left: 1em; padding-right: 1em; text-align: center; vertical-align: top\">302.0</td>\n",
       "        <td style=\"padding-left: 1em; padding-right: 1em; text-align: center; vertical-align: top\">140</td>\n",
       "        <td style=\"padding-left: 1em; padding-right: 1em; text-align: center; vertical-align: top\">3449</td>\n",
       "        <td style=\"padding-left: 1em; padding-right: 1em; text-align: center; vertical-align: top\">10.5</td>\n",
       "        <td style=\"padding-left: 1em; padding-right: 1em; text-align: center; vertical-align: top\">70</td>\n",
       "        <td style=\"padding-left: 1em; padding-right: 1em; text-align: center; vertical-align: top\">US</td>\n",
       "    </tr>\n",
       "    <tr>\n",
       "        <td style=\"padding-left: 1em; padding-right: 1em; text-align: center; vertical-align: top\">Ford Galaxie 500</td>\n",
       "        <td style=\"padding-left: 1em; padding-right: 1em; text-align: center; vertical-align: top\">15</td>\n",
       "        <td style=\"padding-left: 1em; padding-right: 1em; text-align: center; vertical-align: top\">8</td>\n",
       "        <td style=\"padding-left: 1em; padding-right: 1em; text-align: center; vertical-align: top\">429.0</td>\n",
       "        <td style=\"padding-left: 1em; padding-right: 1em; text-align: center; vertical-align: top\">198</td>\n",
       "        <td style=\"padding-left: 1em; padding-right: 1em; text-align: center; vertical-align: top\">4341</td>\n",
       "        <td style=\"padding-left: 1em; padding-right: 1em; text-align: center; vertical-align: top\">10.0</td>\n",
       "        <td style=\"padding-left: 1em; padding-right: 1em; text-align: center; vertical-align: top\">70</td>\n",
       "        <td style=\"padding-left: 1em; padding-right: 1em; text-align: center; vertical-align: top\">US</td>\n",
       "    </tr>\n",
       "    <tr>\n",
       "        <td style=\"padding-left: 1em; padding-right: 1em; text-align: center; vertical-align: top\">Chevrolet Impala</td>\n",
       "        <td style=\"padding-left: 1em; padding-right: 1em; text-align: center; vertical-align: top\">14</td>\n",
       "        <td style=\"padding-left: 1em; padding-right: 1em; text-align: center; vertical-align: top\">8</td>\n",
       "        <td style=\"padding-left: 1em; padding-right: 1em; text-align: center; vertical-align: top\">454.0</td>\n",
       "        <td style=\"padding-left: 1em; padding-right: 1em; text-align: center; vertical-align: top\">220</td>\n",
       "        <td style=\"padding-left: 1em; padding-right: 1em; text-align: center; vertical-align: top\">4354</td>\n",
       "        <td style=\"padding-left: 1em; padding-right: 1em; text-align: center; vertical-align: top\">9.0</td>\n",
       "        <td style=\"padding-left: 1em; padding-right: 1em; text-align: center; vertical-align: top\">70</td>\n",
       "        <td style=\"padding-left: 1em; padding-right: 1em; text-align: center; vertical-align: top\">US</td>\n",
       "    </tr>\n",
       "    <tr>\n",
       "        <td style=\"padding-left: 1em; padding-right: 1em; text-align: center; vertical-align: top\">Plymouth Fury iii</td>\n",
       "        <td style=\"padding-left: 1em; padding-right: 1em; text-align: center; vertical-align: top\">14</td>\n",
       "        <td style=\"padding-left: 1em; padding-right: 1em; text-align: center; vertical-align: top\">8</td>\n",
       "        <td style=\"padding-left: 1em; padding-right: 1em; text-align: center; vertical-align: top\">440.0</td>\n",
       "        <td style=\"padding-left: 1em; padding-right: 1em; text-align: center; vertical-align: top\">215</td>\n",
       "        <td style=\"padding-left: 1em; padding-right: 1em; text-align: center; vertical-align: top\">4312</td>\n",
       "        <td style=\"padding-left: 1em; padding-right: 1em; text-align: center; vertical-align: top\">8.5</td>\n",
       "        <td style=\"padding-left: 1em; padding-right: 1em; text-align: center; vertical-align: top\">70</td>\n",
       "        <td style=\"padding-left: 1em; padding-right: 1em; text-align: center; vertical-align: top\">US</td>\n",
       "    </tr>\n",
       "    <tr>\n",
       "        <td style=\"padding-left: 1em; padding-right: 1em; text-align: center; vertical-align: top\">Pontiac Catalina</td>\n",
       "        <td style=\"padding-left: 1em; padding-right: 1em; text-align: center; vertical-align: top\">14</td>\n",
       "        <td style=\"padding-left: 1em; padding-right: 1em; text-align: center; vertical-align: top\">8</td>\n",
       "        <td style=\"padding-left: 1em; padding-right: 1em; text-align: center; vertical-align: top\">455.0</td>\n",
       "        <td style=\"padding-left: 1em; padding-right: 1em; text-align: center; vertical-align: top\">225</td>\n",
       "        <td style=\"padding-left: 1em; padding-right: 1em; text-align: center; vertical-align: top\">4425</td>\n",
       "        <td style=\"padding-left: 1em; padding-right: 1em; text-align: center; vertical-align: top\">10.0</td>\n",
       "        <td style=\"padding-left: 1em; padding-right: 1em; text-align: center; vertical-align: top\">70</td>\n",
       "        <td style=\"padding-left: 1em; padding-right: 1em; text-align: center; vertical-align: top\">US</td>\n",
       "    </tr>\n",
       "    <tr>\n",
       "        <td style=\"padding-left: 1em; padding-right: 1em; text-align: center; vertical-align: top\">AMC Ambassador DPL</td>\n",
       "        <td style=\"padding-left: 1em; padding-right: 1em; text-align: center; vertical-align: top\">15</td>\n",
       "        <td style=\"padding-left: 1em; padding-right: 1em; text-align: center; vertical-align: top\">8</td>\n",
       "        <td style=\"padding-left: 1em; padding-right: 1em; text-align: center; vertical-align: top\">390.0</td>\n",
       "        <td style=\"padding-left: 1em; padding-right: 1em; text-align: center; vertical-align: top\">190</td>\n",
       "        <td style=\"padding-left: 1em; padding-right: 1em; text-align: center; vertical-align: top\">3850</td>\n",
       "        <td style=\"padding-left: 1em; padding-right: 1em; text-align: center; vertical-align: top\">8.5</td>\n",
       "        <td style=\"padding-left: 1em; padding-right: 1em; text-align: center; vertical-align: top\">70</td>\n",
       "        <td style=\"padding-left: 1em; padding-right: 1em; text-align: center; vertical-align: top\">US</td>\n",
       "    </tr>\n",
       "</table>\n",
       "[10 rows x 9 columns]<br/>\n",
       "</div>"
      ],
      "text/plain": [
       "Columns:\n",
       "\tCar\tstr\n",
       "\tMPG\tint\n",
       "\tCylinders\tint\n",
       "\tDisplacement\tfloat\n",
       "\tHorsepower\tint\n",
       "\tWeight\tint\n",
       "\tAcceleration\tfloat\n",
       "\tModel\tint\n",
       "\tOrigin\tstr\n",
       "\n",
       "Rows: 10\n",
       "\n",
       "Data:\n",
       "+---------------------------+-----+-----------+--------------+------------+--------+\n",
       "|            Car            | MPG | Cylinders | Displacement | Horsepower | Weight |\n",
       "+---------------------------+-----+-----------+--------------+------------+--------+\n",
       "| Chevrolet Chevelle Malibu |  18 |     8     |    307.0     |    130     |  3504  |\n",
       "|     Buick Skylark 320     |  15 |     8     |    350.0     |    165     |  3693  |\n",
       "|     Plymouth Satellite    |  18 |     8     |    318.0     |    150     |  3436  |\n",
       "|       AMC Rebel SST       |  16 |     8     |    304.0     |    150     |  3433  |\n",
       "|        Ford Torino        |  17 |     8     |    302.0     |    140     |  3449  |\n",
       "|      Ford Galaxie 500     |  15 |     8     |    429.0     |    198     |  4341  |\n",
       "|      Chevrolet Impala     |  14 |     8     |    454.0     |    220     |  4354  |\n",
       "|     Plymouth Fury iii     |  14 |     8     |    440.0     |    215     |  4312  |\n",
       "|      Pontiac Catalina     |  14 |     8     |    455.0     |    225     |  4425  |\n",
       "|     AMC Ambassador DPL    |  15 |     8     |    390.0     |    190     |  3850  |\n",
       "+---------------------------+-----+-----------+--------------+------------+--------+\n",
       "+--------------+-------+--------+\n",
       "| Acceleration | Model | Origin |\n",
       "+--------------+-------+--------+\n",
       "|     12.0     |   70  |   US   |\n",
       "|     11.5     |   70  |   US   |\n",
       "|     11.0     |   70  |   US   |\n",
       "|     12.0     |   70  |   US   |\n",
       "|     10.5     |   70  |   US   |\n",
       "|     10.0     |   70  |   US   |\n",
       "|     9.0      |   70  |   US   |\n",
       "|     8.5      |   70  |   US   |\n",
       "|     10.0     |   70  |   US   |\n",
       "|     8.5      |   70  |   US   |\n",
       "+--------------+-------+--------+\n",
       "[10 rows x 9 columns]"
      ]
     },
     "execution_count": 11,
     "metadata": {},
     "output_type": "execute_result"
    }
   ],
   "source": [
    "my_data.head()"
   ]
  },
  {
   "cell_type": "code",
   "execution_count": 12,
   "metadata": {
    "collapsed": false
   },
   "outputs": [
    {
     "data": {
      "text/html": [
       "<div style=\"max-height:1000px;max-width:1500px;overflow:auto;\"><table frame=\"box\" rules=\"cols\">\n",
       "    <tr>\n",
       "        <th style=\"padding-left: 1em; padding-right: 1em; text-align: center\">Car</th>\n",
       "        <th style=\"padding-left: 1em; padding-right: 1em; text-align: center\">MPG</th>\n",
       "        <th style=\"padding-left: 1em; padding-right: 1em; text-align: center\">Cylinders</th>\n",
       "        <th style=\"padding-left: 1em; padding-right: 1em; text-align: center\">Displacement</th>\n",
       "        <th style=\"padding-left: 1em; padding-right: 1em; text-align: center\">Horsepower</th>\n",
       "        <th style=\"padding-left: 1em; padding-right: 1em; text-align: center\">Weight</th>\n",
       "        <th style=\"padding-left: 1em; padding-right: 1em; text-align: center\">Acceleration</th>\n",
       "        <th style=\"padding-left: 1em; padding-right: 1em; text-align: center\">Model</th>\n",
       "        <th style=\"padding-left: 1em; padding-right: 1em; text-align: center\">Origin</th>\n",
       "    </tr>\n",
       "    <tr>\n",
       "        <td style=\"padding-left: 1em; padding-right: 1em; text-align: center; vertical-align: top\">Chevrolet Chevelle Malibu</td>\n",
       "        <td style=\"padding-left: 1em; padding-right: 1em; text-align: center; vertical-align: top\">18</td>\n",
       "        <td style=\"padding-left: 1em; padding-right: 1em; text-align: center; vertical-align: top\">8</td>\n",
       "        <td style=\"padding-left: 1em; padding-right: 1em; text-align: center; vertical-align: top\">307.0</td>\n",
       "        <td style=\"padding-left: 1em; padding-right: 1em; text-align: center; vertical-align: top\">130</td>\n",
       "        <td style=\"padding-left: 1em; padding-right: 1em; text-align: center; vertical-align: top\">3504</td>\n",
       "        <td style=\"padding-left: 1em; padding-right: 1em; text-align: center; vertical-align: top\">12.0</td>\n",
       "        <td style=\"padding-left: 1em; padding-right: 1em; text-align: center; vertical-align: top\">70</td>\n",
       "        <td style=\"padding-left: 1em; padding-right: 1em; text-align: center; vertical-align: top\">US</td>\n",
       "    </tr>\n",
       "    <tr>\n",
       "        <td style=\"padding-left: 1em; padding-right: 1em; text-align: center; vertical-align: top\">Buick Skylark 320</td>\n",
       "        <td style=\"padding-left: 1em; padding-right: 1em; text-align: center; vertical-align: top\">15</td>\n",
       "        <td style=\"padding-left: 1em; padding-right: 1em; text-align: center; vertical-align: top\">8</td>\n",
       "        <td style=\"padding-left: 1em; padding-right: 1em; text-align: center; vertical-align: top\">350.0</td>\n",
       "        <td style=\"padding-left: 1em; padding-right: 1em; text-align: center; vertical-align: top\">165</td>\n",
       "        <td style=\"padding-left: 1em; padding-right: 1em; text-align: center; vertical-align: top\">3693</td>\n",
       "        <td style=\"padding-left: 1em; padding-right: 1em; text-align: center; vertical-align: top\">11.5</td>\n",
       "        <td style=\"padding-left: 1em; padding-right: 1em; text-align: center; vertical-align: top\">70</td>\n",
       "        <td style=\"padding-left: 1em; padding-right: 1em; text-align: center; vertical-align: top\">US</td>\n",
       "    </tr>\n",
       "    <tr>\n",
       "        <td style=\"padding-left: 1em; padding-right: 1em; text-align: center; vertical-align: top\">Plymouth Satellite</td>\n",
       "        <td style=\"padding-left: 1em; padding-right: 1em; text-align: center; vertical-align: top\">18</td>\n",
       "        <td style=\"padding-left: 1em; padding-right: 1em; text-align: center; vertical-align: top\">8</td>\n",
       "        <td style=\"padding-left: 1em; padding-right: 1em; text-align: center; vertical-align: top\">318.0</td>\n",
       "        <td style=\"padding-left: 1em; padding-right: 1em; text-align: center; vertical-align: top\">150</td>\n",
       "        <td style=\"padding-left: 1em; padding-right: 1em; text-align: center; vertical-align: top\">3436</td>\n",
       "        <td style=\"padding-left: 1em; padding-right: 1em; text-align: center; vertical-align: top\">11.0</td>\n",
       "        <td style=\"padding-left: 1em; padding-right: 1em; text-align: center; vertical-align: top\">70</td>\n",
       "        <td style=\"padding-left: 1em; padding-right: 1em; text-align: center; vertical-align: top\">US</td>\n",
       "    </tr>\n",
       "    <tr>\n",
       "        <td style=\"padding-left: 1em; padding-right: 1em; text-align: center; vertical-align: top\">AMC Rebel SST</td>\n",
       "        <td style=\"padding-left: 1em; padding-right: 1em; text-align: center; vertical-align: top\">16</td>\n",
       "        <td style=\"padding-left: 1em; padding-right: 1em; text-align: center; vertical-align: top\">8</td>\n",
       "        <td style=\"padding-left: 1em; padding-right: 1em; text-align: center; vertical-align: top\">304.0</td>\n",
       "        <td style=\"padding-left: 1em; padding-right: 1em; text-align: center; vertical-align: top\">150</td>\n",
       "        <td style=\"padding-left: 1em; padding-right: 1em; text-align: center; vertical-align: top\">3433</td>\n",
       "        <td style=\"padding-left: 1em; padding-right: 1em; text-align: center; vertical-align: top\">12.0</td>\n",
       "        <td style=\"padding-left: 1em; padding-right: 1em; text-align: center; vertical-align: top\">70</td>\n",
       "        <td style=\"padding-left: 1em; padding-right: 1em; text-align: center; vertical-align: top\">US</td>\n",
       "    </tr>\n",
       "    <tr>\n",
       "        <td style=\"padding-left: 1em; padding-right: 1em; text-align: center; vertical-align: top\">Ford Torino</td>\n",
       "        <td style=\"padding-left: 1em; padding-right: 1em; text-align: center; vertical-align: top\">17</td>\n",
       "        <td style=\"padding-left: 1em; padding-right: 1em; text-align: center; vertical-align: top\">8</td>\n",
       "        <td style=\"padding-left: 1em; padding-right: 1em; text-align: center; vertical-align: top\">302.0</td>\n",
       "        <td style=\"padding-left: 1em; padding-right: 1em; text-align: center; vertical-align: top\">140</td>\n",
       "        <td style=\"padding-left: 1em; padding-right: 1em; text-align: center; vertical-align: top\">3449</td>\n",
       "        <td style=\"padding-left: 1em; padding-right: 1em; text-align: center; vertical-align: top\">10.5</td>\n",
       "        <td style=\"padding-left: 1em; padding-right: 1em; text-align: center; vertical-align: top\">70</td>\n",
       "        <td style=\"padding-left: 1em; padding-right: 1em; text-align: center; vertical-align: top\">US</td>\n",
       "    </tr>\n",
       "    <tr>\n",
       "        <td style=\"padding-left: 1em; padding-right: 1em; text-align: center; vertical-align: top\">Ford Galaxie 500</td>\n",
       "        <td style=\"padding-left: 1em; padding-right: 1em; text-align: center; vertical-align: top\">15</td>\n",
       "        <td style=\"padding-left: 1em; padding-right: 1em; text-align: center; vertical-align: top\">8</td>\n",
       "        <td style=\"padding-left: 1em; padding-right: 1em; text-align: center; vertical-align: top\">429.0</td>\n",
       "        <td style=\"padding-left: 1em; padding-right: 1em; text-align: center; vertical-align: top\">198</td>\n",
       "        <td style=\"padding-left: 1em; padding-right: 1em; text-align: center; vertical-align: top\">4341</td>\n",
       "        <td style=\"padding-left: 1em; padding-right: 1em; text-align: center; vertical-align: top\">10.0</td>\n",
       "        <td style=\"padding-left: 1em; padding-right: 1em; text-align: center; vertical-align: top\">70</td>\n",
       "        <td style=\"padding-left: 1em; padding-right: 1em; text-align: center; vertical-align: top\">US</td>\n",
       "    </tr>\n",
       "    <tr>\n",
       "        <td style=\"padding-left: 1em; padding-right: 1em; text-align: center; vertical-align: top\">Chevrolet Impala</td>\n",
       "        <td style=\"padding-left: 1em; padding-right: 1em; text-align: center; vertical-align: top\">14</td>\n",
       "        <td style=\"padding-left: 1em; padding-right: 1em; text-align: center; vertical-align: top\">8</td>\n",
       "        <td style=\"padding-left: 1em; padding-right: 1em; text-align: center; vertical-align: top\">454.0</td>\n",
       "        <td style=\"padding-left: 1em; padding-right: 1em; text-align: center; vertical-align: top\">220</td>\n",
       "        <td style=\"padding-left: 1em; padding-right: 1em; text-align: center; vertical-align: top\">4354</td>\n",
       "        <td style=\"padding-left: 1em; padding-right: 1em; text-align: center; vertical-align: top\">9.0</td>\n",
       "        <td style=\"padding-left: 1em; padding-right: 1em; text-align: center; vertical-align: top\">70</td>\n",
       "        <td style=\"padding-left: 1em; padding-right: 1em; text-align: center; vertical-align: top\">US</td>\n",
       "    </tr>\n",
       "    <tr>\n",
       "        <td style=\"padding-left: 1em; padding-right: 1em; text-align: center; vertical-align: top\">Plymouth Fury iii</td>\n",
       "        <td style=\"padding-left: 1em; padding-right: 1em; text-align: center; vertical-align: top\">14</td>\n",
       "        <td style=\"padding-left: 1em; padding-right: 1em; text-align: center; vertical-align: top\">8</td>\n",
       "        <td style=\"padding-left: 1em; padding-right: 1em; text-align: center; vertical-align: top\">440.0</td>\n",
       "        <td style=\"padding-left: 1em; padding-right: 1em; text-align: center; vertical-align: top\">215</td>\n",
       "        <td style=\"padding-left: 1em; padding-right: 1em; text-align: center; vertical-align: top\">4312</td>\n",
       "        <td style=\"padding-left: 1em; padding-right: 1em; text-align: center; vertical-align: top\">8.5</td>\n",
       "        <td style=\"padding-left: 1em; padding-right: 1em; text-align: center; vertical-align: top\">70</td>\n",
       "        <td style=\"padding-left: 1em; padding-right: 1em; text-align: center; vertical-align: top\">US</td>\n",
       "    </tr>\n",
       "    <tr>\n",
       "        <td style=\"padding-left: 1em; padding-right: 1em; text-align: center; vertical-align: top\">Pontiac Catalina</td>\n",
       "        <td style=\"padding-left: 1em; padding-right: 1em; text-align: center; vertical-align: top\">14</td>\n",
       "        <td style=\"padding-left: 1em; padding-right: 1em; text-align: center; vertical-align: top\">8</td>\n",
       "        <td style=\"padding-left: 1em; padding-right: 1em; text-align: center; vertical-align: top\">455.0</td>\n",
       "        <td style=\"padding-left: 1em; padding-right: 1em; text-align: center; vertical-align: top\">225</td>\n",
       "        <td style=\"padding-left: 1em; padding-right: 1em; text-align: center; vertical-align: top\">4425</td>\n",
       "        <td style=\"padding-left: 1em; padding-right: 1em; text-align: center; vertical-align: top\">10.0</td>\n",
       "        <td style=\"padding-left: 1em; padding-right: 1em; text-align: center; vertical-align: top\">70</td>\n",
       "        <td style=\"padding-left: 1em; padding-right: 1em; text-align: center; vertical-align: top\">US</td>\n",
       "    </tr>\n",
       "    <tr>\n",
       "        <td style=\"padding-left: 1em; padding-right: 1em; text-align: center; vertical-align: top\">AMC Ambassador DPL</td>\n",
       "        <td style=\"padding-left: 1em; padding-right: 1em; text-align: center; vertical-align: top\">15</td>\n",
       "        <td style=\"padding-left: 1em; padding-right: 1em; text-align: center; vertical-align: top\">8</td>\n",
       "        <td style=\"padding-left: 1em; padding-right: 1em; text-align: center; vertical-align: top\">390.0</td>\n",
       "        <td style=\"padding-left: 1em; padding-right: 1em; text-align: center; vertical-align: top\">190</td>\n",
       "        <td style=\"padding-left: 1em; padding-right: 1em; text-align: center; vertical-align: top\">3850</td>\n",
       "        <td style=\"padding-left: 1em; padding-right: 1em; text-align: center; vertical-align: top\">8.5</td>\n",
       "        <td style=\"padding-left: 1em; padding-right: 1em; text-align: center; vertical-align: top\">70</td>\n",
       "        <td style=\"padding-left: 1em; padding-right: 1em; text-align: center; vertical-align: top\">US</td>\n",
       "    </tr>\n",
       "</table>\n",
       "[? rows x 9 columns]<br/>Note: Only the head of the SFrame is printed. This SFrame is lazily evaluated.<br/>You can use sf.materialize() to force materialization.\n",
       "</div>"
      ],
      "text/plain": [
       "Columns:\n",
       "\tCar\tstr\n",
       "\tMPG\tint\n",
       "\tCylinders\tint\n",
       "\tDisplacement\tfloat\n",
       "\tHorsepower\tint\n",
       "\tWeight\tint\n",
       "\tAcceleration\tfloat\n",
       "\tModel\tint\n",
       "\tOrigin\tstr\n",
       "\n",
       "Rows: Unknown\n",
       "\n",
       "Data:\n",
       "+---------------------------+-----+-----------+--------------+------------+--------+\n",
       "|            Car            | MPG | Cylinders | Displacement | Horsepower | Weight |\n",
       "+---------------------------+-----+-----------+--------------+------------+--------+\n",
       "| Chevrolet Chevelle Malibu |  18 |     8     |    307.0     |    130     |  3504  |\n",
       "|     Buick Skylark 320     |  15 |     8     |    350.0     |    165     |  3693  |\n",
       "|     Plymouth Satellite    |  18 |     8     |    318.0     |    150     |  3436  |\n",
       "|       AMC Rebel SST       |  16 |     8     |    304.0     |    150     |  3433  |\n",
       "|        Ford Torino        |  17 |     8     |    302.0     |    140     |  3449  |\n",
       "|      Ford Galaxie 500     |  15 |     8     |    429.0     |    198     |  4341  |\n",
       "|      Chevrolet Impala     |  14 |     8     |    454.0     |    220     |  4354  |\n",
       "|     Plymouth Fury iii     |  14 |     8     |    440.0     |    215     |  4312  |\n",
       "|      Pontiac Catalina     |  14 |     8     |    455.0     |    225     |  4425  |\n",
       "|     AMC Ambassador DPL    |  15 |     8     |    390.0     |    190     |  3850  |\n",
       "+---------------------------+-----+-----------+--------------+------------+--------+\n",
       "+--------------+-------+--------+\n",
       "| Acceleration | Model | Origin |\n",
       "+--------------+-------+--------+\n",
       "|     12.0     |   70  |   US   |\n",
       "|     11.5     |   70  |   US   |\n",
       "|     11.0     |   70  |   US   |\n",
       "|     12.0     |   70  |   US   |\n",
       "|     10.5     |   70  |   US   |\n",
       "|     10.0     |   70  |   US   |\n",
       "|     9.0      |   70  |   US   |\n",
       "|     8.5      |   70  |   US   |\n",
       "|     10.0     |   70  |   US   |\n",
       "|     8.5      |   70  |   US   |\n",
       "+--------------+-------+--------+\n",
       "[? rows x 9 columns]\n",
       "Note: Only the head of the SFrame is printed. This SFrame is lazily evaluated.\n",
       "You can use sf.materialize() to force materialization."
      ]
     },
     "execution_count": 12,
     "metadata": {},
     "output_type": "execute_result"
    }
   ],
   "source": [
    "train"
   ]
  },
  {
   "cell_type": "code",
   "execution_count": 13,
   "metadata": {
    "collapsed": false
   },
   "outputs": [
    {
     "data": {
      "text/html": [
       "<div style=\"max-height:1000px;max-width:1500px;overflow:auto;\"><table frame=\"box\" rules=\"cols\">\n",
       "    <tr>\n",
       "        <th style=\"padding-left: 1em; padding-right: 1em; text-align: center\">Car</th>\n",
       "        <th style=\"padding-left: 1em; padding-right: 1em; text-align: center\">MPG</th>\n",
       "        <th style=\"padding-left: 1em; padding-right: 1em; text-align: center\">Cylinders</th>\n",
       "        <th style=\"padding-left: 1em; padding-right: 1em; text-align: center\">Displacement</th>\n",
       "        <th style=\"padding-left: 1em; padding-right: 1em; text-align: center\">Horsepower</th>\n",
       "        <th style=\"padding-left: 1em; padding-right: 1em; text-align: center\">Weight</th>\n",
       "        <th style=\"padding-left: 1em; padding-right: 1em; text-align: center\">Acceleration</th>\n",
       "        <th style=\"padding-left: 1em; padding-right: 1em; text-align: center\">Model</th>\n",
       "        <th style=\"padding-left: 1em; padding-right: 1em; text-align: center\">Origin</th>\n",
       "    </tr>\n",
       "    <tr>\n",
       "        <td style=\"padding-left: 1em; padding-right: 1em; text-align: center; vertical-align: top\">Ford Torino (sw)</td>\n",
       "        <td style=\"padding-left: 1em; padding-right: 1em; text-align: center; vertical-align: top\">0</td>\n",
       "        <td style=\"padding-left: 1em; padding-right: 1em; text-align: center; vertical-align: top\">8</td>\n",
       "        <td style=\"padding-left: 1em; padding-right: 1em; text-align: center; vertical-align: top\">351.0</td>\n",
       "        <td style=\"padding-left: 1em; padding-right: 1em; text-align: center; vertical-align: top\">153</td>\n",
       "        <td style=\"padding-left: 1em; padding-right: 1em; text-align: center; vertical-align: top\">4034</td>\n",
       "        <td style=\"padding-left: 1em; padding-right: 1em; text-align: center; vertical-align: top\">11.0</td>\n",
       "        <td style=\"padding-left: 1em; padding-right: 1em; text-align: center; vertical-align: top\">70</td>\n",
       "        <td style=\"padding-left: 1em; padding-right: 1em; text-align: center; vertical-align: top\">US</td>\n",
       "    </tr>\n",
       "    <tr>\n",
       "        <td style=\"padding-left: 1em; padding-right: 1em; text-align: center; vertical-align: top\">Dodge Challenger SE</td>\n",
       "        <td style=\"padding-left: 1em; padding-right: 1em; text-align: center; vertical-align: top\">15</td>\n",
       "        <td style=\"padding-left: 1em; padding-right: 1em; text-align: center; vertical-align: top\">8</td>\n",
       "        <td style=\"padding-left: 1em; padding-right: 1em; text-align: center; vertical-align: top\">383.0</td>\n",
       "        <td style=\"padding-left: 1em; padding-right: 1em; text-align: center; vertical-align: top\">170</td>\n",
       "        <td style=\"padding-left: 1em; padding-right: 1em; text-align: center; vertical-align: top\">3563</td>\n",
       "        <td style=\"padding-left: 1em; padding-right: 1em; text-align: center; vertical-align: top\">10.0</td>\n",
       "        <td style=\"padding-left: 1em; padding-right: 1em; text-align: center; vertical-align: top\">70</td>\n",
       "        <td style=\"padding-left: 1em; padding-right: 1em; text-align: center; vertical-align: top\">US</td>\n",
       "    </tr>\n",
       "    <tr>\n",
       "        <td style=\"padding-left: 1em; padding-right: 1em; text-align: center; vertical-align: top\">Volkswagen 1131 Deluxe<br>Sedan ...</td>\n",
       "        <td style=\"padding-left: 1em; padding-right: 1em; text-align: center; vertical-align: top\">26</td>\n",
       "        <td style=\"padding-left: 1em; padding-right: 1em; text-align: center; vertical-align: top\">4</td>\n",
       "        <td style=\"padding-left: 1em; padding-right: 1em; text-align: center; vertical-align: top\">97.0</td>\n",
       "        <td style=\"padding-left: 1em; padding-right: 1em; text-align: center; vertical-align: top\">46</td>\n",
       "        <td style=\"padding-left: 1em; padding-right: 1em; text-align: center; vertical-align: top\">1835</td>\n",
       "        <td style=\"padding-left: 1em; padding-right: 1em; text-align: center; vertical-align: top\">20.5</td>\n",
       "        <td style=\"padding-left: 1em; padding-right: 1em; text-align: center; vertical-align: top\">70</td>\n",
       "        <td style=\"padding-left: 1em; padding-right: 1em; text-align: center; vertical-align: top\">Europe</td>\n",
       "    </tr>\n",
       "    <tr>\n",
       "        <td style=\"padding-left: 1em; padding-right: 1em; text-align: center; vertical-align: top\">AMC Gremlin</td>\n",
       "        <td style=\"padding-left: 1em; padding-right: 1em; text-align: center; vertical-align: top\">21</td>\n",
       "        <td style=\"padding-left: 1em; padding-right: 1em; text-align: center; vertical-align: top\">6</td>\n",
       "        <td style=\"padding-left: 1em; padding-right: 1em; text-align: center; vertical-align: top\">199.0</td>\n",
       "        <td style=\"padding-left: 1em; padding-right: 1em; text-align: center; vertical-align: top\">90</td>\n",
       "        <td style=\"padding-left: 1em; padding-right: 1em; text-align: center; vertical-align: top\">2648</td>\n",
       "        <td style=\"padding-left: 1em; padding-right: 1em; text-align: center; vertical-align: top\">15.0</td>\n",
       "        <td style=\"padding-left: 1em; padding-right: 1em; text-align: center; vertical-align: top\">70</td>\n",
       "        <td style=\"padding-left: 1em; padding-right: 1em; text-align: center; vertical-align: top\">US</td>\n",
       "    </tr>\n",
       "    <tr>\n",
       "        <td style=\"padding-left: 1em; padding-right: 1em; text-align: center; vertical-align: top\">Dodge D200</td>\n",
       "        <td style=\"padding-left: 1em; padding-right: 1em; text-align: center; vertical-align: top\">11</td>\n",
       "        <td style=\"padding-left: 1em; padding-right: 1em; text-align: center; vertical-align: top\">8</td>\n",
       "        <td style=\"padding-left: 1em; padding-right: 1em; text-align: center; vertical-align: top\">318.0</td>\n",
       "        <td style=\"padding-left: 1em; padding-right: 1em; text-align: center; vertical-align: top\">210</td>\n",
       "        <td style=\"padding-left: 1em; padding-right: 1em; text-align: center; vertical-align: top\">4382</td>\n",
       "        <td style=\"padding-left: 1em; padding-right: 1em; text-align: center; vertical-align: top\">13.5</td>\n",
       "        <td style=\"padding-left: 1em; padding-right: 1em; text-align: center; vertical-align: top\">70</td>\n",
       "        <td style=\"padding-left: 1em; padding-right: 1em; text-align: center; vertical-align: top\">US</td>\n",
       "    </tr>\n",
       "    <tr>\n",
       "        <td style=\"padding-left: 1em; padding-right: 1em; text-align: center; vertical-align: top\">Volkswagen Super Beetle<br>117 ...</td>\n",
       "        <td style=\"padding-left: 1em; padding-right: 1em; text-align: center; vertical-align: top\">0</td>\n",
       "        <td style=\"padding-left: 1em; padding-right: 1em; text-align: center; vertical-align: top\">4</td>\n",
       "        <td style=\"padding-left: 1em; padding-right: 1em; text-align: center; vertical-align: top\">97.0</td>\n",
       "        <td style=\"padding-left: 1em; padding-right: 1em; text-align: center; vertical-align: top\">48</td>\n",
       "        <td style=\"padding-left: 1em; padding-right: 1em; text-align: center; vertical-align: top\">1978</td>\n",
       "        <td style=\"padding-left: 1em; padding-right: 1em; text-align: center; vertical-align: top\">20.0</td>\n",
       "        <td style=\"padding-left: 1em; padding-right: 1em; text-align: center; vertical-align: top\">71</td>\n",
       "        <td style=\"padding-left: 1em; padding-right: 1em; text-align: center; vertical-align: top\">Europe</td>\n",
       "    </tr>\n",
       "    <tr>\n",
       "        <td style=\"padding-left: 1em; padding-right: 1em; text-align: center; vertical-align: top\">Plymouth Satellite Custom</td>\n",
       "        <td style=\"padding-left: 1em; padding-right: 1em; text-align: center; vertical-align: top\">16</td>\n",
       "        <td style=\"padding-left: 1em; padding-right: 1em; text-align: center; vertical-align: top\">6</td>\n",
       "        <td style=\"padding-left: 1em; padding-right: 1em; text-align: center; vertical-align: top\">225.0</td>\n",
       "        <td style=\"padding-left: 1em; padding-right: 1em; text-align: center; vertical-align: top\">105</td>\n",
       "        <td style=\"padding-left: 1em; padding-right: 1em; text-align: center; vertical-align: top\">3439</td>\n",
       "        <td style=\"padding-left: 1em; padding-right: 1em; text-align: center; vertical-align: top\">15.5</td>\n",
       "        <td style=\"padding-left: 1em; padding-right: 1em; text-align: center; vertical-align: top\">71</td>\n",
       "        <td style=\"padding-left: 1em; padding-right: 1em; text-align: center; vertical-align: top\">US</td>\n",
       "    </tr>\n",
       "    <tr>\n",
       "        <td style=\"padding-left: 1em; padding-right: 1em; text-align: center; vertical-align: top\">Mercury Capri 2000</td>\n",
       "        <td style=\"padding-left: 1em; padding-right: 1em; text-align: center; vertical-align: top\">23</td>\n",
       "        <td style=\"padding-left: 1em; padding-right: 1em; text-align: center; vertical-align: top\">4</td>\n",
       "        <td style=\"padding-left: 1em; padding-right: 1em; text-align: center; vertical-align: top\">122.0</td>\n",
       "        <td style=\"padding-left: 1em; padding-right: 1em; text-align: center; vertical-align: top\">86</td>\n",
       "        <td style=\"padding-left: 1em; padding-right: 1em; text-align: center; vertical-align: top\">2220</td>\n",
       "        <td style=\"padding-left: 1em; padding-right: 1em; text-align: center; vertical-align: top\">14.0</td>\n",
       "        <td style=\"padding-left: 1em; padding-right: 1em; text-align: center; vertical-align: top\">71</td>\n",
       "        <td style=\"padding-left: 1em; padding-right: 1em; text-align: center; vertical-align: top\">US</td>\n",
       "    </tr>\n",
       "    <tr>\n",
       "        <td style=\"padding-left: 1em; padding-right: 1em; text-align: center; vertical-align: top\">Datsun 1200</td>\n",
       "        <td style=\"padding-left: 1em; padding-right: 1em; text-align: center; vertical-align: top\">35</td>\n",
       "        <td style=\"padding-left: 1em; padding-right: 1em; text-align: center; vertical-align: top\">4</td>\n",
       "        <td style=\"padding-left: 1em; padding-right: 1em; text-align: center; vertical-align: top\">72.0</td>\n",
       "        <td style=\"padding-left: 1em; padding-right: 1em; text-align: center; vertical-align: top\">69</td>\n",
       "        <td style=\"padding-left: 1em; padding-right: 1em; text-align: center; vertical-align: top\">1613</td>\n",
       "        <td style=\"padding-left: 1em; padding-right: 1em; text-align: center; vertical-align: top\">18.0</td>\n",
       "        <td style=\"padding-left: 1em; padding-right: 1em; text-align: center; vertical-align: top\">71</td>\n",
       "        <td style=\"padding-left: 1em; padding-right: 1em; text-align: center; vertical-align: top\">Japan</td>\n",
       "    </tr>\n",
       "    <tr>\n",
       "        <td style=\"padding-left: 1em; padding-right: 1em; text-align: center; vertical-align: top\">Ford Galaxie 500</td>\n",
       "        <td style=\"padding-left: 1em; padding-right: 1em; text-align: center; vertical-align: top\">14</td>\n",
       "        <td style=\"padding-left: 1em; padding-right: 1em; text-align: center; vertical-align: top\">8</td>\n",
       "        <td style=\"padding-left: 1em; padding-right: 1em; text-align: center; vertical-align: top\">351.0</td>\n",
       "        <td style=\"padding-left: 1em; padding-right: 1em; text-align: center; vertical-align: top\">153</td>\n",
       "        <td style=\"padding-left: 1em; padding-right: 1em; text-align: center; vertical-align: top\">4129</td>\n",
       "        <td style=\"padding-left: 1em; padding-right: 1em; text-align: center; vertical-align: top\">13.0</td>\n",
       "        <td style=\"padding-left: 1em; padding-right: 1em; text-align: center; vertical-align: top\">72</td>\n",
       "        <td style=\"padding-left: 1em; padding-right: 1em; text-align: center; vertical-align: top\">US</td>\n",
       "    </tr>\n",
       "</table>\n",
       "[? rows x 9 columns]<br/>Note: Only the head of the SFrame is printed. This SFrame is lazily evaluated.<br/>You can use sf.materialize() to force materialization.\n",
       "</div>"
      ],
      "text/plain": [
       "Columns:\n",
       "\tCar\tstr\n",
       "\tMPG\tint\n",
       "\tCylinders\tint\n",
       "\tDisplacement\tfloat\n",
       "\tHorsepower\tint\n",
       "\tWeight\tint\n",
       "\tAcceleration\tfloat\n",
       "\tModel\tint\n",
       "\tOrigin\tstr\n",
       "\n",
       "Rows: Unknown\n",
       "\n",
       "Data:\n",
       "+------------------------------+-----+-----------+--------------+------------+\n",
       "|             Car              | MPG | Cylinders | Displacement | Horsepower |\n",
       "+------------------------------+-----+-----------+--------------+------------+\n",
       "|       Ford Torino (sw)       |  0  |     8     |    351.0     |    153     |\n",
       "|     Dodge Challenger SE      |  15 |     8     |    383.0     |    170     |\n",
       "| Volkswagen 1131 Deluxe Sedan |  26 |     4     |     97.0     |     46     |\n",
       "|         AMC Gremlin          |  21 |     6     |    199.0     |     90     |\n",
       "|          Dodge D200          |  11 |     8     |    318.0     |    210     |\n",
       "| Volkswagen Super Beetle 117  |  0  |     4     |     97.0     |     48     |\n",
       "|  Plymouth Satellite Custom   |  16 |     6     |    225.0     |    105     |\n",
       "|      Mercury Capri 2000      |  23 |     4     |    122.0     |     86     |\n",
       "|         Datsun 1200          |  35 |     4     |     72.0     |     69     |\n",
       "|       Ford Galaxie 500       |  14 |     8     |    351.0     |    153     |\n",
       "+------------------------------+-----+-----------+--------------+------------+\n",
       "+--------+--------------+-------+--------+\n",
       "| Weight | Acceleration | Model | Origin |\n",
       "+--------+--------------+-------+--------+\n",
       "|  4034  |     11.0     |   70  |   US   |\n",
       "|  3563  |     10.0     |   70  |   US   |\n",
       "|  1835  |     20.5     |   70  | Europe |\n",
       "|  2648  |     15.0     |   70  |   US   |\n",
       "|  4382  |     13.5     |   70  |   US   |\n",
       "|  1978  |     20.0     |   71  | Europe |\n",
       "|  3439  |     15.5     |   71  |   US   |\n",
       "|  2220  |     14.0     |   71  |   US   |\n",
       "|  1613  |     18.0     |   71  | Japan  |\n",
       "|  4129  |     13.0     |   72  |   US   |\n",
       "+--------+--------------+-------+--------+\n",
       "[? rows x 9 columns]\n",
       "Note: Only the head of the SFrame is printed. This SFrame is lazily evaluated.\n",
       "You can use sf.materialize() to force materialization."
      ]
     },
     "execution_count": 13,
     "metadata": {},
     "output_type": "execute_result"
    }
   ],
   "source": [
    "test"
   ]
  },
  {
   "cell_type": "code",
   "execution_count": 14,
   "metadata": {
    "collapsed": true
   },
   "outputs": [],
   "source": [
    "gr.canvas.set_target('ipynb')"
   ]
  },
  {
   "cell_type": "code",
   "execution_count": 26,
   "metadata": {
    "collapsed": false
   },
   "outputs": [
    {
     "name": "stdout",
     "output_type": "stream",
     "text": [
      "PROGRESS: Creating a validation set from 5 percent of training data. This may take a while.\n",
      "          You can set ``validation_set=None`` to disable validation tracking.\n",
      "\n"
     ]
    },
    {
     "data": {
      "text/html": [
       "<pre>Boosted trees regression:</pre>"
      ],
      "text/plain": [
       "Boosted trees regression:"
      ]
     },
     "metadata": {},
     "output_type": "display_data"
    },
    {
     "data": {
      "text/html": [
       "<pre>--------------------------------------------------------</pre>"
      ],
      "text/plain": [
       "--------------------------------------------------------"
      ]
     },
     "metadata": {},
     "output_type": "display_data"
    },
    {
     "data": {
      "text/html": [
       "<pre>Number of examples          : 309</pre>"
      ],
      "text/plain": [
       "Number of examples          : 309"
      ]
     },
     "metadata": {},
     "output_type": "display_data"
    },
    {
     "data": {
      "text/html": [
       "<pre>Number of features          : 2</pre>"
      ],
      "text/plain": [
       "Number of features          : 2"
      ]
     },
     "metadata": {},
     "output_type": "display_data"
    },
    {
     "data": {
      "text/html": [
       "<pre>Number of unpacked features : 2</pre>"
      ],
      "text/plain": [
       "Number of unpacked features : 2"
      ]
     },
     "metadata": {},
     "output_type": "display_data"
    },
    {
     "data": {
      "text/html": [
       "<pre>+-----------+--------------+--------------------+----------------------+---------------+-----------------+</pre>"
      ],
      "text/plain": [
       "+-----------+--------------+--------------------+----------------------+---------------+-----------------+"
      ]
     },
     "metadata": {},
     "output_type": "display_data"
    },
    {
     "data": {
      "text/html": [
       "<pre>| Iteration | Elapsed Time | Training-max_error | Validation-max_error | Training-rmse | Validation-rmse |</pre>"
      ],
      "text/plain": [
       "| Iteration | Elapsed Time | Training-max_error | Validation-max_error | Training-rmse | Validation-rmse |"
      ]
     },
     "metadata": {},
     "output_type": "display_data"
    },
    {
     "data": {
      "text/html": [
       "<pre>+-----------+--------------+--------------------+----------------------+---------------+-----------------+</pre>"
      ],
      "text/plain": [
       "+-----------+--------------+--------------------+----------------------+---------------+-----------------+"
      ]
     },
     "metadata": {},
     "output_type": "display_data"
    },
    {
     "data": {
      "text/html": [
       "<pre>| 1         | 0.000000     | 194.893753         | 176.398071           | 80.731438     | 83.815475       |</pre>"
      ],
      "text/plain": [
       "| 1         | 0.000000     | 194.893753         | 176.398071           | 80.731438     | 83.815475       |"
      ]
     },
     "metadata": {},
     "output_type": "display_data"
    },
    {
     "data": {
      "text/html": [
       "<pre>| 2         | 0.000000     | 165.215012         | 138.293488           | 58.301380     | 59.278584       |</pre>"
      ],
      "text/plain": [
       "| 2         | 0.000000     | 165.215012         | 138.293488           | 58.301380     | 59.278584       |"
      ]
     },
     "metadata": {},
     "output_type": "display_data"
    },
    {
     "data": {
      "text/html": [
       "<pre>| 3         | 0.000000     | 141.466644         | 111.894028           | 42.692478     | 44.198174       |</pre>"
      ],
      "text/plain": [
       "| 3         | 0.000000     | 141.466644         | 111.894028           | 42.692478     | 44.198174       |"
      ]
     },
     "metadata": {},
     "output_type": "display_data"
    },
    {
     "data": {
      "text/html": [
       "<pre>| 4         | 0.000000     | 118.744934         | 89.172333            | 31.892941     | 32.967602       |</pre>"
      ],
      "text/plain": [
       "| 4         | 0.000000     | 118.744934         | 89.172333            | 31.892941     | 32.967602       |"
      ]
     },
     "metadata": {},
     "output_type": "display_data"
    },
    {
     "data": {
      "text/html": [
       "<pre>| 5         | 0.000000     | 106.217278         | 68.256592            | 24.429083     | 23.884890       |</pre>"
      ],
      "text/plain": [
       "| 5         | 0.000000     | 106.217278         | 68.256592            | 24.429083     | 23.884890       |"
      ]
     },
     "metadata": {},
     "output_type": "display_data"
    },
    {
     "data": {
      "text/html": [
       "<pre>| 6         | 0.015623     | 97.236526          | 52.719177            | 19.302748     | 17.840786       |</pre>"
      ],
      "text/plain": [
       "| 6         | 0.015623     | 97.236526          | 52.719177            | 19.302748     | 17.840786       |"
      ]
     },
     "metadata": {},
     "output_type": "display_data"
    },
    {
     "data": {
      "text/html": [
       "<pre>+-----------+--------------+--------------------+----------------------+---------------+-----------------+</pre>"
      ],
      "text/plain": [
       "+-----------+--------------+--------------------+----------------------+---------------+-----------------+"
      ]
     },
     "metadata": {},
     "output_type": "display_data"
    }
   ],
   "source": [
    "model = gr.regression.create(train , target='Horsepower',\n",
    "                            features=['Weight','Acceleration'])"
   ]
  },
  {
   "cell_type": "code",
   "execution_count": 19,
   "metadata": {
    "collapsed": true
   },
   "outputs": [],
   "source": [
    "import matplotlib.pyplot as plt\n",
    "%matplotlib inline"
   ]
  },
  {
   "cell_type": "code",
   "execution_count": 29,
   "metadata": {
    "collapsed": false
   },
   "outputs": [
    {
     "data": {
      "text/plain": [
       "[<matplotlib.lines.Line2D at 0x1ca8cf60>,\n",
       " <matplotlib.lines.Line2D at 0x1c7d8160>]"
      ]
     },
     "execution_count": 29,
     "metadata": {},
     "output_type": "execute_result"
    },
    {
     "data": {
      "image/png": "[encoded data removed]",
      "text/plain": [
       "<matplotlib.figure.Figure at 0x1faf0780>"
      ]
     },
     "metadata": {},
     "output_type": "display_data"
    }
   ],
   "source": [
    "plt.plot(test['Weight'], test['Horsepower'], '.',\n",
    "         test['Weight'], model.predict(test), '-')"
   ]
  },
  {
   "cell_type": "code",
   "execution_count": 30,
   "metadata": {
    "collapsed": false
   },
   "outputs": [
    {
     "data": {
      "application/javascript": [
       "$(\"head\").append($(\"<link/>\").attr({\n",
       "  rel:  \"stylesheet\",\n",
       "  type: \"text/css\",\n",
       "  href: \"//cdnjs.cloudflare.com/ajax/libs/font-awesome/4.1.0/css/font-awesome.min.css\"\n",
       "}));\n",
       "$(\"head\").append($(\"<link/>\").attr({\n",
       "  rel:  \"stylesheet\",\n",
       "  type: \"text/css\",\n",
       "  href: \"https://static.turi.com/products/graphlab-create/2.1/canvas/css/canvas.css\"\n",
       "}));\n",
       "\n",
       "            (function(){\n",
       "\n",
       "                var e = null;\n",
       "                if (typeof element == 'undefined') {\n",
       "                    var scripts = document.getElementsByTagName('script');\n",
       "                    var thisScriptTag = scripts[scripts.length-1];\n",
       "                    var parentDiv = thisScriptTag.parentNode;\n",
       "                    e = document.createElement('div');\n",
       "                    parentDiv.appendChild(e);\n",
       "                } else {\n",
       "                    e = element[0];\n",
       "                }\n",
       "\n",
       "                if (typeof requirejs !== 'undefined') {\n",
       "                    // disable load timeout; ipython_app.js is large and can take a while to load.\n",
       "                    requirejs.config({waitSeconds: 0});\n",
       "                }\n",
       "\n",
       "                require(['https://static.turi.com/products/graphlab-create/2.1/canvas/js/ipython_app.js'], function(IPythonApp){\n",
       "                    var app = new IPythonApp();\n",
       "                    app.attachView('model','Summary', {\"comparison\": null, \"selected_variable\": {\"comparison\": null, \"name\": [\"model\"], \"view_file\": \"model\", \"view_component\": \"Summary\", \"view_params\": {\"model_type\": \"base\", \"view\": \"Summary\"}, \"view_components\": [\"Summary\", \"Evaluation\", \"Comparison\"], \"model_type\": \"base\", \"attributes\": {\"section_titles\": [\"Schema\", \"Settings\"], \"sections\": [[[\"Number of examples\", 309], [\"Number of feature columns\", 2], [\"Number of unpacked features\", 2]], [[\"Number of trees\", 10], [\"Max tree depth\", 6], [\"Training time (sec)\", 0.0156], [\"Training rmse\", 10.6705], [\"Validation rmse\", 10.2741], [\"Training max_error\", 59.0168], [\"Validation max_error\", 24.6036]]]}, \"evaluations\": [], \"type\": \"Model\"}, \"ipython\": true, \"view_params\": {\"model_type\": \"base\", \"view\": \"Summary\"}, \"model_type\": \"base\", \"attributes\": {\"section_titles\": [\"Schema\", \"Settings\"], \"sections\": [[[\"Number of examples\", 309], [\"Number of feature columns\", 2], [\"Number of unpacked features\", 2]], [[\"Number of trees\", 10], [\"Max tree depth\", 6], [\"Training time (sec)\", 0.0156], [\"Training rmse\", 10.6705], [\"Validation rmse\", 10.2741], [\"Training max_error\", 59.0168], [\"Validation max_error\", 24.6036]]]}, \"evaluations\": []}, e);\n",
       "                });\n",
       "            })();\n",
       "        "
      ]
     },
     "metadata": {},
     "output_type": "display_data"
    }
   ],
   "source": [
    "model.show()"
   ]
  },
  {
   "cell_type": "code",
   "execution_count": 31,
   "metadata": {
    "collapsed": false
   },
   "outputs": [
    {
     "data": {
      "application/javascript": [
       "$(\"head\").append($(\"<link/>\").attr({\n",
       "  rel:  \"stylesheet\",\n",
       "  type: \"text/css\",\n",
       "  href: \"//cdnjs.cloudflare.com/ajax/libs/font-awesome/4.1.0/css/font-awesome.min.css\"\n",
       "}));\n",
       "$(\"head\").append($(\"<link/>\").attr({\n",
       "  rel:  \"stylesheet\",\n",
       "  type: \"text/css\",\n",
       "  href: \"https://static.turi.com/products/graphlab-create/2.1/canvas/css/canvas.css\"\n",
       "}));\n",
       "\n",
       "            (function(){\n",
       "\n",
       "                var e = null;\n",
       "                if (typeof element == 'undefined') {\n",
       "                    var scripts = document.getElementsByTagName('script');\n",
       "                    var thisScriptTag = scripts[scripts.length-1];\n",
       "                    var parentDiv = thisScriptTag.parentNode;\n",
       "                    e = document.createElement('div');\n",
       "                    parentDiv.appendChild(e);\n",
       "                } else {\n",
       "                    e = element[0];\n",
       "                }\n",
       "\n",
       "                if (typeof requirejs !== 'undefined') {\n",
       "                    // disable load timeout; ipython_app.js is large and can take a while to load.\n",
       "                    requirejs.config({waitSeconds: 0});\n",
       "                }\n",
       "\n",
       "                require(['https://static.turi.com/products/graphlab-create/2.1/canvas/js/ipython_app.js'], function(IPythonApp){\n",
       "                    var app = new IPythonApp();\n",
       "                    app.attachView('sframe','Summary', {\"ipython\": true, \"sketch\": {\"Acceleration\": {\"std\": 2.800172083531335, \"complete\": true, \"min\": 8.0, \"max\": 24.8, \"quantile\": [8.0, 8.5, 9.5, 10.0, 11.0, 11.0, 11.1, 11.4, 11.5, 11.5, 12.0, 12.0, 12.0, 12.1, 12.5, 12.5, 12.8, 12.9, 13.0, 13.0, 13.0, 13.2, 13.4, 13.5, 13.5, 13.5, 13.5, 13.7, 14.0, 14.0, 14.0, 14.0, 14.1, 14.3, 14.4, 14.4, 14.5, 14.5, 14.5, 14.5, 14.5, 14.5, 14.7, 14.7, 14.9, 14.9, 15.0, 15.0, 15.2, 15.3, 15.4, 15.5, 15.5, 15.5, 15.5, 15.5, 15.6, 15.8, 15.8, 16.0, 16.0, 16.0, 16.0, 16.2, 16.4, 16.4, 16.5, 16.5, 16.5, 16.5, 16.6, 16.7, 16.8, 17.0, 17.0, 17.0, 17.0, 17.3, 17.3, 17.5, 17.5, 17.7, 18.0, 18.0, 18.2, 18.2, 18.5, 18.6, 18.7, 19.0, 19.0, 19.0, 19.2, 19.5, 19.5, 19.6, 20.7, 21.0, 21.8, 22.2, 24.8], \"median\": 15.4, \"numeric\": true, \"num_unique\": 88, \"num_undefined\": 0, \"var\": 7.840963697388218, \"progress\": 1.0, \"size\": 322, \"frequent_items\": {\"11.5\": {\"frequency\": 8, \"value\": 11.5}, \"10.5\": {\"frequency\": 2, \"value\": 10.5}, \"11.1\": {\"frequency\": 1, \"value\": 11.1}, \"19.4\": {\"frequency\": 2, \"value\": 19.4}, \"14.5\": {\"frequency\": 21, \"value\": 14.5}, \"8.0\": {\"frequency\": 2, \"value\": 8.0}, \"9.0\": {\"frequency\": 1, \"value\": 9.0}, \"10.0\": {\"frequency\": 3, \"value\": 10.0}, \"11.0\": {\"frequency\": 7, \"value\": 11.0}, \"12.0\": {\"frequency\": 9, \"value\": 12.0}, \"13.0\": {\"frequency\": 11, \"value\": 13.0}, \"14.0\": {\"frequency\": 13, \"value\": 14.0}, \"15.0\": {\"frequency\": 7, \"value\": 15.0}, \"16.0\": {\"frequency\": 13, \"value\": 16.0}, \"17.0\": {\"frequency\": 10, \"value\": 17.0}, \"18.0\": {\"frequency\": 5, \"value\": 18.0}, \"19.0\": {\"frequency\": 9, \"value\": 19.0}, \"16.4\": {\"frequency\": 7, \"value\": 16.4}, \"21.0\": {\"frequency\": 3, \"value\": 21.0}, \"21.8\": {\"frequency\": 1, \"value\": 21.8}, \"21.5\": {\"frequency\": 1, \"value\": 21.5}, \"18.2\": {\"frequency\": 5, \"value\": 18.2}, \"13.4\": {\"frequency\": 2, \"value\": 13.4}, \"18.7\": {\"frequency\": 2, \"value\": 18.7}, \"20.4\": {\"frequency\": 1, \"value\": 20.4}, \"11.2\": {\"frequency\": 1, \"value\": 11.2}, \"17.7\": {\"frequency\": 2, \"value\": 17.7}, \"13.5\": {\"frequency\": 13, \"value\": 13.5}, \"15.9\": {\"frequency\": 1, \"value\": 15.9}, \"15.1\": {\"frequency\": 1, \"value\": 15.1}, \"12.8\": {\"frequency\": 3, \"value\": 12.8}, \"14.3\": {\"frequency\": 2, \"value\": 14.3}, \"16.8\": {\"frequency\": 1, \"value\": 16.8}, \"13.9\": {\"frequency\": 2, \"value\": 13.9}, \"12.1\": {\"frequency\": 1, \"value\": 12.1}, \"9.5\": {\"frequency\": 2, \"value\": 9.5}, \"23.5\": {\"frequency\": 1, \"value\": 23.5}, \"14.4\": {\"frequency\": 5, \"value\": 14.4}, \"16.5\": {\"frequency\": 13, \"value\": 16.5}, \"16.2\": {\"frequency\": 3, \"value\": 16.2}, \"15.6\": {\"frequency\": 1, \"value\": 15.6}, \"15.8\": {\"frequency\": 4, \"value\": 15.8}, \"11.6\": {\"frequency\": 1, \"value\": 11.6}, \"24.8\": {\"frequency\": 1, \"value\": 24.8}, \"13.7\": {\"frequency\": 1, \"value\": 13.7}, \"13.8\": {\"frequency\": 1, \"value\": 13.8}, \"14.9\": {\"frequency\": 5, \"value\": 14.9}, \"20.7\": {\"frequency\": 1, \"value\": 20.7}, \"17.8\": {\"frequency\": 1, \"value\": 17.8}, \"22.1\": {\"frequency\": 1, \"value\": 22.1}, \"16.1\": {\"frequency\": 1, \"value\": 16.1}, \"15.2\": {\"frequency\": 3, \"value\": 15.2}, \"18.5\": {\"frequency\": 5, \"value\": 18.5}, \"11.4\": {\"frequency\": 2, \"value\": 11.4}, \"17.3\": {\"frequency\": 5, \"value\": 17.3}, \"15.4\": {\"frequency\": 2, \"value\": 15.4}, \"16.6\": {\"frequency\": 3, \"value\": 16.6}, \"18.3\": {\"frequency\": 1, \"value\": 18.3}, \"13.6\": {\"frequency\": 1, \"value\": 13.6}, \"14.8\": {\"frequency\": 2, \"value\": 14.8}, \"17.1\": {\"frequency\": 1, \"value\": 17.1}, \"15.5\": {\"frequency\": 18, \"value\": 15.5}, \"15.7\": {\"frequency\": 2, \"value\": 15.7}, \"14.7\": {\"frequency\": 5, \"value\": 14.7}, \"16.9\": {\"frequency\": 3, \"value\": 16.9}, \"21.7\": {\"frequency\": 1, \"value\": 21.7}, \"14.2\": {\"frequency\": 2, \"value\": 14.2}, \"17.6\": {\"frequency\": 2, \"value\": 17.6}, \"14.1\": {\"frequency\": 1, \"value\": 14.1}, \"22.2\": {\"frequency\": 2, \"value\": 22.2}, \"8.5\": {\"frequency\": 2, \"value\": 8.5}, \"17.4\": {\"frequency\": 1, \"value\": 17.4}, \"21.9\": {\"frequency\": 1, \"value\": 21.9}, \"12.5\": {\"frequency\": 7, \"value\": 12.5}, \"12.2\": {\"frequency\": 2, \"value\": 12.2}, \"19.5\": {\"frequency\": 5, \"value\": 19.5}, \"13.2\": {\"frequency\": 4, \"value\": 13.2}, \"18.6\": {\"frequency\": 2, \"value\": 18.6}, \"15.3\": {\"frequency\": 3, \"value\": 15.3}, \"17.5\": {\"frequency\": 5, \"value\": 17.5}, \"16.7\": {\"frequency\": 3, \"value\": 16.7}, \"17.9\": {\"frequency\": 1, \"value\": 17.9}, \"18.8\": {\"frequency\": 1, \"value\": 18.8}, \"20.5\": {\"frequency\": 2, \"value\": 20.5}, \"19.2\": {\"frequency\": 3, \"value\": 19.2}, \"17.2\": {\"frequency\": 1, \"value\": 17.2}, \"12.9\": {\"frequency\": 1, \"value\": 12.9}, \"19.6\": {\"frequency\": 2, \"value\": 19.6}}, \"mean\": 15.37329192546584}, \"MPG\": {\"std\": 7.9568417466594035, \"complete\": true, \"min\": 0.0, \"max\": 46.0, \"quantile\": [0.0, 0.0, 10.0, 11.0, 12.0, 13.0, 13.0, 13.0, 13.0, 13.0, 14.0, 14.0, 14.0, 14.0, 14.0, 14.0, 15.0, 15.0, 15.0, 15.0, 15.0, 15.0, 16.0, 16.0, 16.0, 16.0, 17.0, 17.0, 17.0, 18.0, 18.0, 18.0, 18.0, 18.0, 18.0, 19.0, 19.0, 19.0, 19.0, 19.0, 19.0, 20.0, 20.0, 20.0, 20.0, 20.0, 20.0, 21.0, 21.0, 21.0, 22.0, 22.0, 22.0, 23.0, 23.0, 23.0, 23.0, 24.0, 24.0, 24.0, 24.0, 25.0, 25.0, 25.0, 25.0, 26.0, 26.0, 26.0, 26.0, 27.0, 27.0, 27.0, 27.0, 28.0, 28.0, 28.0, 28.0, 29.0, 29.0, 29.0, 30.0, 30.0, 30.0, 31.0, 31.0, 31.0, 31.0, 32.0, 32.0, 33.0, 33.0, 34.0, 34.0, 35.0, 36.0, 36.0, 37.0, 38.0, 39.0, 41.0, 46.0], \"median\": 22.0, \"numeric\": true, \"num_unique\": 37, \"num_undefined\": 0, \"var\": 63.31133058138187, \"progress\": 1.0, \"size\": 322, \"frequent_items\": {\"0\": {\"frequency\": 5, \"value\": 0}, \"9\": {\"frequency\": 1, \"value\": 9}, \"10\": {\"frequency\": 2, \"value\": 10}, \"11\": {\"frequency\": 2, \"value\": 11}, \"12\": {\"frequency\": 6, \"value\": 12}, \"13\": {\"frequency\": 16, \"value\": 13}, \"14\": {\"frequency\": 18, \"value\": 14}, \"15\": {\"frequency\": 18, \"value\": 15}, \"16\": {\"frequency\": 13, \"value\": 16}, \"17\": {\"frequency\": 11, \"value\": 17}, \"18\": {\"frequency\": 20, \"value\": 18}, \"19\": {\"frequency\": 19, \"value\": 19}, \"20\": {\"frequency\": 18, \"value\": 20}, \"21\": {\"frequency\": 10, \"value\": 21}, \"22\": {\"frequency\": 11, \"value\": 22}, \"23\": {\"frequency\": 13, \"value\": 23}, \"24\": {\"frequency\": 13, \"value\": 24}, \"25\": {\"frequency\": 12, \"value\": 25}, \"26\": {\"frequency\": 14, \"value\": 26}, \"27\": {\"frequency\": 13, \"value\": 27}, \"28\": {\"frequency\": 10, \"value\": 28}, \"29\": {\"frequency\": 11, \"value\": 29}, \"30\": {\"frequency\": 10, \"value\": 30}, \"31\": {\"frequency\": 11, \"value\": 31}, \"32\": {\"frequency\": 8, \"value\": 32}, \"33\": {\"frequency\": 5, \"value\": 33}, \"34\": {\"frequency\": 8, \"value\": 34}, \"35\": {\"frequency\": 2, \"value\": 35}, \"36\": {\"frequency\": 7, \"value\": 36}, \"37\": {\"frequency\": 5, \"value\": 37}, \"38\": {\"frequency\": 3, \"value\": 38}, \"39\": {\"frequency\": 1, \"value\": 39}, \"40\": {\"frequency\": 2, \"value\": 40}, \"41\": {\"frequency\": 1, \"value\": 41}, \"43\": {\"frequency\": 1, \"value\": 43}, \"44\": {\"frequency\": 1, \"value\": 44}, \"46\": {\"frequency\": 1, \"value\": 46}}, \"mean\": 22.52795031055901}, \"Cylinders\": {\"std\": 1.7373243727742627, \"complete\": true, \"min\": 3.0, \"max\": 8.0, \"quantile\": [3.0, 4.0, 4.0, 4.0, 4.0, 4.0, 4.0, 4.0, 4.0, 4.0, 4.0, 4.0, 4.0, 4.0, 4.0, 4.0, 4.0, 4.0, 4.0, 4.0, 4.0, 4.0, 4.0, 4.0, 4.0, 4.0, 4.0, 4.0, 4.0, 4.0, 4.0, 4.0, 4.0, 4.0, 4.0, 4.0, 4.0, 4.0, 4.0, 4.0, 4.0, 4.0, 4.0, 4.0, 4.0, 4.0, 4.0, 4.0, 4.0, 4.0, 4.0, 6.0, 6.0, 6.0, 6.0, 6.0, 6.0, 6.0, 6.0, 6.0, 6.0, 6.0, 6.0, 6.0, 6.0, 6.0, 6.0, 6.0, 6.0, 6.0, 6.0, 6.0, 8.0, 8.0, 8.0, 8.0, 8.0, 8.0, 8.0, 8.0, 8.0, 8.0, 8.0, 8.0, 8.0, 8.0, 8.0, 8.0, 8.0, 8.0, 8.0, 8.0, 8.0, 8.0, 8.0, 8.0, 8.0, 8.0, 8.0, 8.0, 8.0], \"median\": 4.0, \"numeric\": true, \"num_unique\": 4, \"num_undefined\": 0, \"var\": 3.018295976235485, \"progress\": 1.0, \"size\": 322, \"frequent_items\": {\"8\": {\"frequency\": 92, \"value\": 8}, \"3\": {\"frequency\": 3, \"value\": 3}, \"4\": {\"frequency\": 161, \"value\": 4}, \"6\": {\"frequency\": 66, \"value\": 6}}, \"mean\": 5.543478260869565}, \"Weight\": {\"std\": 854.8355050210836, \"complete\": true, \"min\": 1649.0, \"max\": 5140.0, \"quantile\": [1649.0, 1795.0, 1825.0, 1835.0, 1915.0, 1950.0, 1968.0, 1980.0, 1985.0, 2000.0, 2035.0, 2046.0, 2065.0, 2075.0, 2110.0, 2124.0, 2125.0, 2130.0, 2144.0, 2155.0, 2171.0, 2190.0, 2205.0, 2223.0, 2230.0, 2246.0, 2264.0, 2265.0, 2295.0, 2310.0, 2350.0, 2375.0, 2391.0, 2401.0, 2420.0, 2464.0, 2490.0, 2525.0, 2560.0, 2575.0, 2592.0, 2634.0, 2660.0, 2671.0, 2694.0, 2735.0, 2774.0, 2807.0, 2835.0, 2868.0, 2904.0, 2914.0, 2933.0, 2945.0, 2962.0, 2990.0, 3021.0, 3060.0, 3090.0, 3139.0, 3160.0, 3205.0, 3230.0, 3250.0, 3278.0, 3302.0, 3353.0, 3365.0, 3399.0, 3425.0, 3433.0, 3449.0, 3520.0, 3605.0, 3620.0, 3664.0, 3693.0, 3730.0, 3781.0, 3830.0, 3880.0, 3900.0, 4042.0, 4060.0, 4096.0, 4135.0, 4154.0, 4209.0, 4220.0, 4274.0, 4312.0, 4354.0, 4376.0, 4422.0, 4457.0, 4498.0, 4654.0, 4699.0, 4746.0, 4952.0, 5140.0], \"median\": 2904.0, \"numeric\": true, \"num_unique\": 291, \"num_undefined\": 0, \"var\": 730743.740644651, \"progress\": 1.0, \"size\": 322, \"frequent_items\": {\"4096\": {\"frequency\": 1, \"value\": 4096}, \"2560\": {\"frequency\": 1, \"value\": 2560}, \"4098\": {\"frequency\": 1, \"value\": 4098}, \"2051\": {\"frequency\": 1, \"value\": 2051}, \"4100\": {\"frequency\": 1, \"value\": 4100}, \"2565\": {\"frequency\": 1, \"value\": 2565}, \"4615\": {\"frequency\": 1, \"value\": 4615}, \"2391\": {\"frequency\": 1, \"value\": 2391}, \"2572\": {\"frequency\": 1, \"value\": 2572}, \"2050\": {\"frequency\": 1, \"value\": 2050}, \"3086\": {\"frequency\": 1, \"value\": 3086}, \"2575\": {\"frequency\": 1, \"value\": 2575}, \"2065\": {\"frequency\": 1, \"value\": 2065}, \"3090\": {\"frequency\": 1, \"value\": 3090}, \"5140\": {\"frequency\": 1, \"value\": 5140}, \"3605\": {\"frequency\": 1, \"value\": 3605}, \"2582\": {\"frequency\": 1, \"value\": 2582}, \"3609\": {\"frequency\": 1, \"value\": 3609}, \"2074\": {\"frequency\": 1, \"value\": 2074}, \"2587\": {\"frequency\": 1, \"value\": 2587}, \"3613\": {\"frequency\": 1, \"value\": 3613}, \"3102\": {\"frequency\": 1, \"value\": 3102}, \"2592\": {\"frequency\": 1, \"value\": 2592}, \"1968\": {\"frequency\": 1, \"value\": 1968}, \"2395\": {\"frequency\": 2, \"value\": 2395}, \"3620\": {\"frequency\": 1, \"value\": 3620}, \"2085\": {\"frequency\": 1, \"value\": 2085}, \"4135\": {\"frequency\": 1, \"value\": 4135}, \"2600\": {\"frequency\": 1, \"value\": 2600}, \"4140\": {\"frequency\": 1, \"value\": 4140}, \"3250\": {\"frequency\": 1, \"value\": 3250}, \"4142\": {\"frequency\": 1, \"value\": 4142}, \"3121\": {\"frequency\": 1, \"value\": 3121}, \"2100\": {\"frequency\": 1, \"value\": 2100}, \"2740\": {\"frequency\": 1, \"value\": 2740}, \"4154\": {\"frequency\": 1, \"value\": 4154}, \"2108\": {\"frequency\": 1, \"value\": 2108}, \"3645\": {\"frequency\": 1, \"value\": 3645}, \"2110\": {\"frequency\": 2, \"value\": 2110}, \"3139\": {\"frequency\": 1, \"value\": 3139}, \"4165\": {\"frequency\": 1, \"value\": 4165}, \"4166\": {\"frequency\": 1, \"value\": 4166}, \"3425\": {\"frequency\": 2, \"value\": 3425}, \"2634\": {\"frequency\": 1, \"value\": 2634}, \"2123\": {\"frequency\": 1, \"value\": 2123}, \"2124\": {\"frequency\": 1, \"value\": 2124}, \"2125\": {\"frequency\": 3, \"value\": 2125}, \"2126\": {\"frequency\": 1, \"value\": 2126}, \"3664\": {\"frequency\": 1, \"value\": 3664}, \"2130\": {\"frequency\": 3, \"value\": 2130}, \"3155\": {\"frequency\": 1, \"value\": 3155}, \"4657\": {\"frequency\": 1, \"value\": 4657}, \"3158\": {\"frequency\": 1, \"value\": 3158}, \"2135\": {\"frequency\": 1, \"value\": 2135}, \"3672\": {\"frequency\": 2, \"value\": 3672}, \"4699\": {\"frequency\": 1, \"value\": 4699}, \"4190\": {\"frequency\": 1, \"value\": 4190}, \"2144\": {\"frequency\": 1, \"value\": 2144}, \"2660\": {\"frequency\": 1, \"value\": 2660}, \"2150\": {\"frequency\": 1, \"value\": 2150}, \"2833\": {\"frequency\": 1, \"value\": 2833}, \"2665\": {\"frequency\": 1, \"value\": 2665}, \"2155\": {\"frequency\": 3, \"value\": 2155}, \"3693\": {\"frequency\": 1, \"value\": 3693}, \"2158\": {\"frequency\": 1, \"value\": 2158}, \"2671\": {\"frequency\": 1, \"value\": 2671}, \"2672\": {\"frequency\": 1, \"value\": 2672}, \"4209\": {\"frequency\": 1, \"value\": 4209}, \"3302\": {\"frequency\": 1, \"value\": 3302}, \"2164\": {\"frequency\": 1, \"value\": 2164}, \"3190\": {\"frequency\": 1, \"value\": 3190}, \"4215\": {\"frequency\": 2, \"value\": 4215}, \"3193\": {\"frequency\": 1, \"value\": 3193}, \"2171\": {\"frequency\": 1, \"value\": 2171}, \"4732\": {\"frequency\": 1, \"value\": 4732}, \"4735\": {\"frequency\": 1, \"value\": 4735}, \"2408\": {\"frequency\": 2, \"value\": 2408}, \"2070\": {\"frequency\": 1, \"value\": 2070}, \"2694\": {\"frequency\": 1, \"value\": 2694}, \"4746\": {\"frequency\": 1, \"value\": 4746}, \"3211\": {\"frequency\": 1, \"value\": 3211}, \"4237\": {\"frequency\": 1, \"value\": 4237}, \"2702\": {\"frequency\": 1, \"value\": 2702}, \"3730\": {\"frequency\": 1, \"value\": 3730}, \"3221\": {\"frequency\": 1, \"value\": 3221}, \"3735\": {\"frequency\": 1, \"value\": 3735}, \"2200\": {\"frequency\": 1, \"value\": 2200}, \"2202\": {\"frequency\": 1, \"value\": 2202}, \"2205\": {\"frequency\": 1, \"value\": 2205}, \"3230\": {\"frequency\": 1, \"value\": 3230}, \"2245\": {\"frequency\": 1, \"value\": 2245}, \"3233\": {\"frequency\": 1, \"value\": 3233}, \"2210\": {\"frequency\": 1, \"value\": 2210}, \"2075\": {\"frequency\": 1, \"value\": 2075}, \"3270\": {\"frequency\": 1, \"value\": 3270}, \"1649\": {\"frequency\": 1, \"value\": 1649}, \"2219\": {\"frequency\": 1, \"value\": 2219}, \"2220\": {\"frequency\": 1, \"value\": 2220}, \"3245\": {\"frequency\": 1, \"value\": 3245}, \"2223\": {\"frequency\": 1, \"value\": 2223}, \"2904\": {\"frequency\": 1, \"value\": 2904}, \"3761\": {\"frequency\": 1, \"value\": 3761}, \"2226\": {\"frequency\": 1, \"value\": 2226}, \"2228\": {\"frequency\": 1, \"value\": 2228}, \"4278\": {\"frequency\": 1, \"value\": 4278}, \"3160\": {\"frequency\": 1, \"value\": 3160}, \"2745\": {\"frequency\": 1, \"value\": 2745}, \"2234\": {\"frequency\": 1, \"value\": 2234}, \"4042\": {\"frequency\": 1, \"value\": 4042}, \"3445\": {\"frequency\": 1, \"value\": 3445}, \"3264\": {\"frequency\": 1, \"value\": 3264}, \"3265\": {\"frequency\": 1, \"value\": 3265}, \"2755\": {\"frequency\": 1, \"value\": 2755}, \"3781\": {\"frequency\": 1, \"value\": 3781}, \"2246\": {\"frequency\": 1, \"value\": 2246}, \"1825\": {\"frequency\": 2, \"value\": 1825}, \"2254\": {\"frequency\": 1, \"value\": 2254}, \"2255\": {\"frequency\": 1, \"value\": 2255}, \"3282\": {\"frequency\": 1, \"value\": 3282}, \"3278\": {\"frequency\": 1, \"value\": 3278}, \"2774\": {\"frequency\": 1, \"value\": 2774}, \"4312\": {\"frequency\": 1, \"value\": 4312}, \"2265\": {\"frequency\": 3, \"value\": 2265}, \"3535\": {\"frequency\": 1, \"value\": 3535}, \"2735\": {\"frequency\": 1, \"value\": 2735}, \"4457\": {\"frequency\": 1, \"value\": 4457}, \"1760\": {\"frequency\": 1, \"value\": 1760}, \"2678\": {\"frequency\": 1, \"value\": 2678}, \"4325\": {\"frequency\": 1, \"value\": 4325}, \"2278\": {\"frequency\": 1, \"value\": 2278}, \"2279\": {\"frequency\": 1, \"value\": 2279}, \"4220\": {\"frequency\": 1, \"value\": 4220}, \"3820\": {\"frequency\": 1, \"value\": 3820}, \"1773\": {\"frequency\": 1, \"value\": 1773}, \"4335\": {\"frequency\": 1, \"value\": 4335}, \"2288\": {\"frequency\": 1, \"value\": 2288}, \"2515\": {\"frequency\": 1, \"value\": 2515}, \"2230\": {\"frequency\": 1, \"value\": 2230}, \"4341\": {\"frequency\": 1, \"value\": 4341}, \"3830\": {\"frequency\": 1, \"value\": 3830}, \"2807\": {\"frequency\": 1, \"value\": 2807}, \"2300\": {\"frequency\": 2, \"value\": 2300}, \"4906\": {\"frequency\": 1, \"value\": 4906}, \"2815\": {\"frequency\": 1, \"value\": 2815}, \"3725\": {\"frequency\": 2, \"value\": 3725}, \"3329\": {\"frequency\": 1, \"value\": 3329}, \"4354\": {\"frequency\": 1, \"value\": 4354}, \"1795\": {\"frequency\": 1, \"value\": 1795}, \"2310\": {\"frequency\": 1, \"value\": 2310}, \"3336\": {\"frequency\": 1, \"value\": 3336}, \"4360\": {\"frequency\": 1, \"value\": 4360}, \"3850\": {\"frequency\": 2, \"value\": 3850}, \"4363\": {\"frequency\": 1, \"value\": 4363}, \"2605\": {\"frequency\": 1, \"value\": 2605}, \"2320\": {\"frequency\": 1, \"value\": 2320}, \"3288\": {\"frequency\": 1, \"value\": 3288}, \"3755\": {\"frequency\": 1, \"value\": 3755}, \"2835\": {\"frequency\": 1, \"value\": 2835}, \"3630\": {\"frequency\": 1, \"value\": 3630}, \"4376\": {\"frequency\": 1, \"value\": 4376}, \"3353\": {\"frequency\": 2, \"value\": 3353}, \"2330\": {\"frequency\": 1, \"value\": 2330}, \"4380\": {\"frequency\": 1, \"value\": 4380}, \"3205\": {\"frequency\": 1, \"value\": 3205}, \"3360\": {\"frequency\": 1, \"value\": 3360}, \"4385\": {\"frequency\": 1, \"value\": 4385}, \"3365\": {\"frequency\": 1, \"value\": 3365}, \"2855\": {\"frequency\": 1, \"value\": 2855}, \"3880\": {\"frequency\": 1, \"value\": 3880}, \"3432\": {\"frequency\": 1, \"value\": 3432}, \"1834\": {\"frequency\": 1, \"value\": 1834}, \"1835\": {\"frequency\": 1, \"value\": 1835}, \"1836\": {\"frequency\": 1, \"value\": 1836}, \"3897\": {\"frequency\": 1, \"value\": 3897}, \"1800\": {\"frequency\": 2, \"value\": 1800}, \"2865\": {\"frequency\": 1, \"value\": 2865}, \"3892\": {\"frequency\": 1, \"value\": 3892}, \"3381\": {\"frequency\": 1, \"value\": 3381}, \"3380\": {\"frequency\": 1, \"value\": 3380}, \"2875\": {\"frequency\": 1, \"value\": 2875}, \"3900\": {\"frequency\": 1, \"value\": 3900}, \"2670\": {\"frequency\": 1, \"value\": 2670}, \"1845\": {\"frequency\": 1, \"value\": 1845}, \"2370\": {\"frequency\": 1, \"value\": 2370}, \"2372\": {\"frequency\": 1, \"value\": 2372}, \"4422\": {\"frequency\": 1, \"value\": 4422}, \"3399\": {\"frequency\": 1, \"value\": 3399}, \"4425\": {\"frequency\": 1, \"value\": 4425}, \"2890\": {\"frequency\": 1, \"value\": 2890}, \"2379\": {\"frequency\": 1, \"value\": 2379}, \"2380\": {\"frequency\": 1, \"value\": 2380}, \"2189\": {\"frequency\": 1, \"value\": 2189}, \"2385\": {\"frequency\": 1, \"value\": 2385}, \"3410\": {\"frequency\": 1, \"value\": 3410}, \"2190\": {\"frequency\": 2, \"value\": 2190}, \"4951\": {\"frequency\": 1, \"value\": 4951}, \"4952\": {\"frequency\": 1, \"value\": 4952}, \"2905\": {\"frequency\": 1, \"value\": 2905}, \"4955\": {\"frequency\": 1, \"value\": 4955}, \"3420\": {\"frequency\": 1, \"value\": 3420}, \"2910\": {\"frequency\": 1, \"value\": 2910}, \"2620\": {\"frequency\": 1, \"value\": 2620}, \"2401\": {\"frequency\": 1, \"value\": 2401}, \"2914\": {\"frequency\": 1, \"value\": 2914}, \"3940\": {\"frequency\": 1, \"value\": 3940}, \"2790\": {\"frequency\": 1, \"value\": 2790}, \"3430\": {\"frequency\": 1, \"value\": 3430}, \"4274\": {\"frequency\": 1, \"value\": 4274}, \"4456\": {\"frequency\": 1, \"value\": 4456}, \"3433\": {\"frequency\": 1, \"value\": 3433}, \"3436\": {\"frequency\": 1, \"value\": 3436}, \"4498\": {\"frequency\": 1, \"value\": 4498}, \"4464\": {\"frequency\": 2, \"value\": 4464}, \"2930\": {\"frequency\": 2, \"value\": 2930}, \"2451\": {\"frequency\": 1, \"value\": 2451}, \"2420\": {\"frequency\": 1, \"value\": 2420}, \"2933\": {\"frequency\": 1, \"value\": 2933}, \"3449\": {\"frequency\": 1, \"value\": 3449}, \"3962\": {\"frequency\": 1, \"value\": 3962}, \"1915\": {\"frequency\": 1, \"value\": 1915}, \"2430\": {\"frequency\": 1, \"value\": 2430}, \"2945\": {\"frequency\": 3, \"value\": 2945}, \"1963\": {\"frequency\": 1, \"value\": 1963}, \"4997\": {\"frequency\": 1, \"value\": 4997}, \"2950\": {\"frequency\": 1, \"value\": 2950}, \"3465\": {\"frequency\": 1, \"value\": 3465}, \"2711\": {\"frequency\": 1, \"value\": 2711}, \"2957\": {\"frequency\": 1, \"value\": 2957}, \"3821\": {\"frequency\": 1, \"value\": 3821}, \"1937\": {\"frequency\": 1, \"value\": 1937}, \"2962\": {\"frequency\": 1, \"value\": 2962}, \"4499\": {\"frequency\": 1, \"value\": 4499}, \"3988\": {\"frequency\": 1, \"value\": 3988}, \"2965\": {\"frequency\": 1, \"value\": 2965}, \"4502\": {\"frequency\": 1, \"value\": 4502}, \"1940\": {\"frequency\": 1, \"value\": 1940}, \"2264\": {\"frequency\": 1, \"value\": 2264}, \"1950\": {\"frequency\": 1, \"value\": 1950}, \"4668\": {\"frequency\": 1, \"value\": 4668}, \"2464\": {\"frequency\": 1, \"value\": 2464}, \"2800\": {\"frequency\": 1, \"value\": 2800}, \"2979\": {\"frequency\": 1, \"value\": 2979}, \"2472\": {\"frequency\": 1, \"value\": 2472}, \"2375\": {\"frequency\": 1, \"value\": 2375}, \"3570\": {\"frequency\": 1, \"value\": 3570}, \"2990\": {\"frequency\": 1, \"value\": 2990}, \"2868\": {\"frequency\": 1, \"value\": 2868}, \"3504\": {\"frequency\": 1, \"value\": 3504}, \"2350\": {\"frequency\": 1, \"value\": 2350}, \"3015\": {\"frequency\": 1, \"value\": 3015}, \"1975\": {\"frequency\": 2, \"value\": 1975}, \"2489\": {\"frequency\": 1, \"value\": 2489}, \"2490\": {\"frequency\": 1, \"value\": 2490}, \"1980\": {\"frequency\": 1, \"value\": 1980}, \"3520\": {\"frequency\": 1, \"value\": 3520}, \"1985\": {\"frequency\": 3, \"value\": 1985}, \"2635\": {\"frequency\": 2, \"value\": 2635}, \"3012\": {\"frequency\": 1, \"value\": 3012}, \"1990\": {\"frequency\": 2, \"value\": 1990}, \"4257\": {\"frequency\": 1, \"value\": 4257}, \"2506\": {\"frequency\": 1, \"value\": 2506}, \"2295\": {\"frequency\": 1, \"value\": 2295}, \"3021\": {\"frequency\": 1, \"value\": 3021}, \"2511\": {\"frequency\": 1, \"value\": 2511}, \"2000\": {\"frequency\": 1, \"value\": 2000}, \"1955\": {\"frequency\": 1, \"value\": 1955}, \"3150\": {\"frequency\": 1, \"value\": 3150}, \"4054\": {\"frequency\": 1, \"value\": 4054}, \"4055\": {\"frequency\": 1, \"value\": 4055}, \"1925\": {\"frequency\": 1, \"value\": 1925}, \"3035\": {\"frequency\": 1, \"value\": 3035}, \"4060\": {\"frequency\": 1, \"value\": 4060}, \"2525\": {\"frequency\": 1, \"value\": 2525}, \"4295\": {\"frequency\": 1, \"value\": 4295}, \"3039\": {\"frequency\": 1, \"value\": 3039}, \"2019\": {\"frequency\": 1, \"value\": 2019}, \"2020\": {\"frequency\": 1, \"value\": 2020}, \"2025\": {\"frequency\": 1, \"value\": 2025}, \"4077\": {\"frequency\": 1, \"value\": 4077}, \"2542\": {\"frequency\": 1, \"value\": 2542}, \"2984\": {\"frequency\": 1, \"value\": 2984}, \"4082\": {\"frequency\": 1, \"value\": 4082}, \"2035\": {\"frequency\": 1, \"value\": 2035}, \"3060\": {\"frequency\": 1, \"value\": 3060}, \"3070\": {\"frequency\": 1, \"value\": 3070}, \"3574\": {\"frequency\": 1, \"value\": 3574}, \"4654\": {\"frequency\": 1, \"value\": 4654}, \"2556\": {\"frequency\": 1, \"value\": 2556}, \"2045\": {\"frequency\": 2, \"value\": 2045}, \"2046\": {\"frequency\": 1, \"value\": 2046}, \"2901\": {\"frequency\": 1, \"value\": 2901}}, \"mean\": 3015.4937888198756}, \"Car\": {\"complete\": true, \"numeric\": false, \"num_unique\": 247, \"num_undefined\": 0, \"progress\": 1.0, \"frequent_items\": {\"Mercury Lynx l\": {\"frequency\": 1, \"value\": \"Mercury Lynx l\"}, \"BMW 320i\": {\"frequency\": 1, \"value\": \"BMW 320i\"}, \"Pontiac Astro\": {\"frequency\": 1, \"value\": \"Pontiac Astro\"}, \"Pontiac Catalina Brougham\": {\"frequency\": 1, \"value\": \"Pontiac Catalina ...\"}, \"Ford Mustang Cobra\": {\"frequency\": 1, \"value\": \"Ford Mustang Cobra\"}, \"Ford Fairmont (auto)\": {\"frequency\": 1, \"value\": \"Ford Fairmont ...\"}, \"Plymouth Horizon TC3\": {\"frequency\": 1, \"value\": \"Plymouth Horizon ...\"}, \"Dodge Coronet Brougham\": {\"frequency\": 1, \"value\": \"Dodge Coronet ...\"}, \"Honda Accord\": {\"frequency\": 1, \"value\": \"Honda Accord\"}, \"Buick Skyhawk\": {\"frequency\": 1, \"value\": \"Buick Skyhawk\"}, \"Chevrolet Concours\": {\"frequency\": 1, \"value\": \"Chevrolet Concours\"}, \"Oldsmobile Cutlass Ciera (diesel)\": {\"frequency\": 1, \"value\": \"Oldsmobile Cutlass ...\"}, \"Chevrolet Chevelle Malibu\": {\"frequency\": 2, \"value\": \"Chevrolet Chevelle ...\"}, \"Chevrolete Chevelle Malibu\": {\"frequency\": 1, \"value\": \"Chevrolete ...\"}, \"Mercedes-Benz 280s\": {\"frequency\": 1, \"value\": \"Mercedes-Benz 280s\"}, \"Hi 1200D\": {\"frequency\": 1, \"value\": \"Hi 1200D\"}, \"Pontiac J2000 SE Hatchback\": {\"frequency\": 1, \"value\": \"Pontiac J2000 SE ...\"}, \"Dodge Monaco (sw)\": {\"frequency\": 1, \"value\": \"Dodge Monaco (sw)\"}, \"Mercury Marquis Brougham\": {\"frequency\": 1, \"value\": \"Mercury Marquis ...\"}, \"Dodge Colt m/m\": {\"frequency\": 1, \"value\": \"Dodge Colt m/m\"}, \"Chevrolet Camaro\": {\"frequency\": 1, \"value\": \"Chevrolet Camaro\"}, \"AMC Matador (sw)\": {\"frequency\": 2, \"value\": \"AMC Matador (sw)\"}, \"Toyota Celica GT Liftback\": {\"frequency\": 1, \"value\": \"Toyota Celica GT ...\"}, \"Chevrolet Cavalier\": {\"frequency\": 1, \"value\": \"Chevrolet Cavalier\"}, \"Datsun 510 (sw)\": {\"frequency\": 1, \"value\": \"Datsun 510 (sw)\"}, \"Dodge D100\": {\"frequency\": 1, \"value\": \"Dodge D100\"}, \"Pontiac Lemans V6\": {\"frequency\": 1, \"value\": \"Pontiac Lemans V6\"}, \"Capri ii\": {\"frequency\": 1, \"value\": \"Capri ii\"}, \"Fiat 124 TC\": {\"frequency\": 1, \"value\": \"Fiat 124 TC\"}, \"Ford Escort 4W\": {\"frequency\": 1, \"value\": \"Ford Escort 4W\"}, \"Plymouth Volare Custom\": {\"frequency\": 1, \"value\": \"Plymouth Volare ...\"}, \"Ford Torino\": {\"frequency\": 1, \"value\": \"Ford Torino\"}, \"Mercury Zephyr\": {\"frequency\": 1, \"value\": \"Mercury Zephyr\"}, \"Honda Accord CVCC\": {\"frequency\": 1, \"value\": \"Honda Accord CVCC\"}, \"Buick LeSabre Custom\": {\"frequency\": 1, \"value\": \"Buick LeSabre ...\"}, \"AMC Matador\": {\"frequency\": 4, \"value\": \"AMC Matador\"}, \"Plymouth Fury III\": {\"frequency\": 1, \"value\": \"Plymouth Fury III\"}, \"Volkswagen Type 3\": {\"frequency\": 1, \"value\": \"Volkswagen Type 3\"}, \"Ford Mustang II 2+2\": {\"frequency\": 1, \"value\": \"Ford Mustang II ...\"}, \"Renault Lecar Deluxe\": {\"frequency\": 1, \"value\": \"Renault Lecar ...\"}, \"Volkswagen Rabbit\": {\"frequency\": 4, \"value\": \"Volkswagen Rabbit\"}, \"Ford F250\": {\"frequency\": 1, \"value\": \"Ford F250\"}, \"Dodge St. Regis\": {\"frequency\": 1, \"value\": \"Dodge St. Regis\"}, \"Chevrolet Nova\": {\"frequency\": 2, \"value\": \"Chevrolet Nova\"}, \"Audi Fox\": {\"frequency\": 1, \"value\": \"Audi Fox\"}, \"AMC Rebel SST\": {\"frequency\": 1, \"value\": \"AMC Rebel SST\"}, \"Ford Grenada gl\": {\"frequency\": 1, \"value\": \"Ford Grenada gl\"}, \"Ford Mustang\": {\"frequency\": 1, \"value\": \"Ford Mustang\"}, \"Audi 100LS\": {\"frequency\": 2, \"value\": \"Audi 100LS\"}, \"Dodge Dart Custom\": {\"frequency\": 1, \"value\": \"Dodge Dart Custom\"}, \"Volkswagen Model 111\": {\"frequency\": 1, \"value\": \"Volkswagen Model ...\"}, \"Volkswagen Rabbit l\": {\"frequency\": 1, \"value\": \"Volkswagen Rabbit ...\"}, \"Volkswagen Scirocco\": {\"frequency\": 1, \"value\": \"Volkswagen ...\"}, \"Peugeot 504 (sw)\": {\"frequency\": 1, \"value\": \"Peugeot 504 (sw)\"}, \"Buick Century Special\": {\"frequency\": 1, \"value\": \"Buick Century ...\"}, \"Plymouth Sapporo\": {\"frequency\": 1, \"value\": \"Plymouth Sapporo\"}, \"Dodge Rampage\": {\"frequency\": 1, \"value\": \"Dodge Rampage\"}, \"Mercury Cougar Brougham\": {\"frequency\": 1, \"value\": \"Mercury Cougar ...\"}, \"Toyota Corolla\": {\"frequency\": 9, \"value\": \"Toyota Corolla\"}, \"Oldsmobile Cutlass Salon Brougham\": {\"frequency\": 2, \"value\": \"Oldsmobile Cutlass ...\"}, \"Plymouth Valiant\": {\"frequency\": 2, \"value\": \"Plymouth Valiant\"}, \"Volvo 145e (sw)\": {\"frequency\": 1, \"value\": \"Volvo 145e (sw)\"}, \"Fiat Strada Custom\": {\"frequency\": 1, \"value\": \"Fiat Strada Custom\"}, \"Mazda RX2 Coupe\": {\"frequency\": 1, \"value\": \"Mazda RX2 Coupe\"}, \"Plymouth Volare\": {\"frequency\": 1, \"value\": \"Plymouth Volare\"}, \"Chevrolet Nova Custom\": {\"frequency\": 1, \"value\": \"Chevrolet Nova ...\"}, \"Dodge Aries Wagon (sw)\": {\"frequency\": 1, \"value\": \"Dodge Aries Wagon ...\"}, \"Oldsmobile Cutlass Supreme\": {\"frequency\": 1, \"value\": \"Oldsmobile Cutlass ...\"}, \"Buick Electra 225 Custom\": {\"frequency\": 1, \"value\": \"Buick Electra 225 ...\"}, \"Ford Torino 500\": {\"frequency\": 1, \"value\": \"Ford Torino 500\"}, \"BMW 2002\": {\"frequency\": 1, \"value\": \"BMW 2002\"}, \"Buick Century 350\": {\"frequency\": 1, \"value\": \"Buick Century 350\"}, \"Mazda RX-7 GS\": {\"frequency\": 1, \"value\": \"Mazda RX-7 GS\"}, \"Honda Accord LX\": {\"frequency\": 1, \"value\": \"Honda Accord LX\"}, \"Renault 18i\": {\"frequency\": 1, \"value\": \"Renault 18i\"}, \"Chevrolet Chevelle Malibu Classic\": {\"frequency\": 2, \"value\": \"Chevrolet Chevelle ...\"}, \"Buick Century Luxus (sw)\": {\"frequency\": 1, \"value\": \"Buick Century ...\"}, \"Dodge Colt\": {\"frequency\": 3, \"value\": \"Dodge Colt\"}, \"AMC Rebel SST (sw)\": {\"frequency\": 1, \"value\": \"AMC Rebel SST (sw)\"}, \"Chevrolet Vega\": {\"frequency\": 2, \"value\": \"Chevrolet Vega\"}, \"Ford Pinto Runabout\": {\"frequency\": 1, \"value\": \"Ford Pinto ...\"}, \"Chevrolet Monte Carlo\": {\"frequency\": 1, \"value\": \"Chevrolet Monte ...\"}, \"Toyota Corolla Hardtop\": {\"frequency\": 1, \"value\": \"Toyota Corolla ...\"}, \"Mercury Zephyr 6\": {\"frequency\": 1, \"value\": \"Mercury Zephyr 6\"}, \"Volkswagen Dasher\": {\"frequency\": 3, \"value\": \"Volkswagen Dasher\"}, \"Datsun 210 MPG\": {\"frequency\": 1, \"value\": \"Datsun 210 MPG\"}, \"AMC Concord DL 6\": {\"frequency\": 1, \"value\": \"AMC Concord DL 6\"}, \"Toyota Corolla Mark II (sw)\": {\"frequency\": 1, \"value\": \"Toyota Corolla ...\"}, \"Plymouth Valiant Custom\": {\"frequency\": 1, \"value\": \"Plymouth Valiant ...\"}, \"Volvo Diesel\": {\"frequency\": 1, \"value\": \"Volvo Diesel\"}, \"Toyota Corolla Tercel\": {\"frequency\": 1, \"value\": \"Toyota Corolla ...\"}, \"Fiat 124B\": {\"frequency\": 1, \"value\": \"Fiat 124B\"}, \"Chevrolet Woody\": {\"frequency\": 1, \"value\": \"Chevrolet Woody\"}, \"Toyota Corolla 1200\": {\"frequency\": 2, \"value\": \"Toyota Corolla ...\"}, \"AMC Hornet\": {\"frequency\": 3, \"value\": \"AMC Hornet\"}, \"Oldsmobile Delta 88 Royale\": {\"frequency\": 1, \"value\": \"Oldsmobile Delta ...\"}, \"Pontiac Phoenix\": {\"frequency\": 2, \"value\": \"Pontiac Phoenix\"}, \"Renault 12 (sw)\": {\"frequency\": 1, \"value\": \"Renault 12 (sw)\"}, \"Datsun 210\": {\"frequency\": 2, \"value\": \"Datsun 210\"}, \"Datsun 810 Maxima\": {\"frequency\": 1, \"value\": \"Datsun 810 Maxima\"}, \"Toyota Corolla 1600 (sw)\": {\"frequency\": 1, \"value\": \"Toyota Corolla ...\"}, \"Honda Civic CVCC\": {\"frequency\": 2, \"value\": \"Honda Civic CVCC\"}, \"Plymouth Satellite\": {\"frequency\": 1, \"value\": \"Plymouth Satellite\"}, \"Plymouth Cricket\": {\"frequency\": 1, \"value\": \"Plymouth Cricket\"}, \"Chrysler Lebaron Salon\": {\"frequency\": 1, \"value\": \"Chrysler Lebaron ...\"}, \"Chevrolet Caprice Classic\": {\"frequency\": 2, \"value\": \"Chevrolet Caprice ...\"}, \"Dodge Colt Hardtop\": {\"frequency\": 1, \"value\": \"Dodge Colt Hardtop\"}, \"Oldsmobile Cutlass LS\": {\"frequency\": 1, \"value\": \"Oldsmobile Cutlass ...\"}, \"Ford Maverick\": {\"frequency\": 5, \"value\": \"Ford Maverick\"}, \"Plymouth Horizon\": {\"frequency\": 1, \"value\": \"Plymouth Horizon\"}, \"Ford Thunderbird\": {\"frequency\": 1, \"value\": \"Ford Thunderbird\"}, \"Plymouth Fury Gran Sedan\": {\"frequency\": 1, \"value\": \"Plymouth Fury Gran ...\"}, \"Volkswagen Rabbit Custom\": {\"frequency\": 2, \"value\": \"Volkswagen Rabbit ...\"}, \"Mazda RX3\": {\"frequency\": 1, \"value\": \"Mazda RX3\"}, \"Mazda 626\": {\"frequency\": 2, \"value\": \"Mazda 626\"}, \"Datsun B210\": {\"frequency\": 1, \"value\": \"Datsun B210\"}, \"Plymouth Grand Fury\": {\"frequency\": 1, \"value\": \"Plymouth Grand ...\"}, \"Ford Country Squire (sw)\": {\"frequency\": 2, \"value\": \"Ford Country ...\"}, \"Ford Pinto (sw)\": {\"frequency\": 1, \"value\": \"Ford Pinto (sw)\"}, \"Chrysler Cordoba\": {\"frequency\": 1, \"value\": \"Chrysler Cordoba\"}, \"Ford Futura\": {\"frequency\": 1, \"value\": \"Ford Futura\"}, \"Chevrolet Malibu\": {\"frequency\": 2, \"value\": \"Chevrolet Malibu\"}, \"Chevrolet Vega (sw)\": {\"frequency\": 1, \"value\": \"Chevrolet Vega ...\"}, \"Toyota Mark II\": {\"frequency\": 2, \"value\": \"Toyota Mark II\"}, \"Ford Fairmont Futura\": {\"frequency\": 1, \"value\": \"Ford Fairmont ...\"}, \"Plymouth Duster\": {\"frequency\": 3, \"value\": \"Plymouth Duster\"}, \"Ford Gran Torino\": {\"frequency\": 2, \"value\": \"Ford Gran Torino\"}, \"Volkswagen Rabbit Custom Diesel\": {\"frequency\": 1, \"value\": \"Volkswagen Rabbit ...\"}, \"Pontiac Sunbird Coupe\": {\"frequency\": 1, \"value\": \"Pontiac Sunbird ...\"}, \"Chevrolet Monte Carlo Landau\": {\"frequency\": 2, \"value\": \"Chevrolet Monte ...\"}, \"Volvo 144ea\": {\"frequency\": 1, \"value\": \"Volvo 144ea\"}, \"Honda Civic 1300\": {\"frequency\": 1, \"value\": \"Honda Civic 1300\"}, \"Chevrolet Impala\": {\"frequency\": 4, \"value\": \"Chevrolet Impala\"}, \"Dodge Aries SE\": {\"frequency\": 1, \"value\": \"Dodge Aries SE\"}, \"Mazda GLC\": {\"frequency\": 1, \"value\": \"Mazda GLC\"}, \"Ford Mustang Boss 302\": {\"frequency\": 1, \"value\": \"Ford Mustang Boss ...\"}, \"Peugeot 304\": {\"frequency\": 1, \"value\": \"Peugeot 304\"}, \"AMC Gremlin\": {\"frequency\": 2, \"value\": \"AMC Gremlin\"}, \"Saab 99le\": {\"frequency\": 1, \"value\": \"Saab 99le\"}, \"Dodge Coronet Custom (sw)\": {\"frequency\": 1, \"value\": \"Dodge Coronet ...\"}, \"Fiat 124 Sport Coupe\": {\"frequency\": 1, \"value\": \"Fiat 124 Sport ...\"}, \"Chevrolet Monte Carlo S\": {\"frequency\": 1, \"value\": \"Chevrolet Monte ...\"}, \"Datsun B-210\": {\"frequency\": 1, \"value\": \"Datsun B-210\"}, \"Pontiac Grand Prix LJ\": {\"frequency\": 1, \"value\": \"Pontiac Grand Prix ...\"}, \"AMC Ambassador DPL\": {\"frequency\": 1, \"value\": \"AMC Ambassador DPL\"}, \"Toyota Corolla Liftback\": {\"frequency\": 2, \"value\": \"Toyota Corolla ...\"}, \"Buick Skylark 320\": {\"frequency\": 1, \"value\": \"Buick Skylark 320\"}, \"Chrysler Lebaron Town @ Country (sw)\": {\"frequency\": 1, \"value\": \"Chrysler Lebaron ...\"}, \"AMC Pacer\": {\"frequency\": 1, \"value\": \"AMC Pacer\"}, \"Chevrolet Monza 2+2\": {\"frequency\": 1, \"value\": \"Chevrolet Monza ...\"}, \"Plymouth Custom Suburb\": {\"frequency\": 1, \"value\": \"Plymouth Custom ...\"}, \"Buick Century Limited\": {\"frequency\": 1, \"value\": \"Buick Century ...\"}, \"Plymouth Reliant\": {\"frequency\": 2, \"value\": \"Plymouth Reliant\"}, \"Pontiac Phoenix LJ\": {\"frequency\": 1, \"value\": \"Pontiac Phoenix LJ\"}, \"Oldsmobile Starfire SX\": {\"frequency\": 1, \"value\": \"Oldsmobile ...\"}, \"Ford Grenada ghia\": {\"frequency\": 1, \"value\": \"Ford Grenada ghia\"}, \"Mazda GLC 4\": {\"frequency\": 1, \"value\": \"Mazda GLC 4\"}, \"Fiat x1.9\": {\"frequency\": 1, \"value\": \"Fiat x1.9\"}, \"Dodge Charger 2.2\": {\"frequency\": 1, \"value\": \"Dodge Charger 2.2\"}, \"Ford Country\": {\"frequency\": 1, \"value\": \"Ford Country\"}, \"Oldsmobile Vista Cruiser\": {\"frequency\": 1, \"value\": \"Oldsmobile Vista ...\"}, \"Mazda GLC Custom l\": {\"frequency\": 1, \"value\": \"Mazda GLC Custom l\"}, \"Honda Prelude\": {\"frequency\": 1, \"value\": \"Honda Prelude\"}, \"Dodge Aspen 6\": {\"frequency\": 1, \"value\": \"Dodge Aspen 6\"}, \"Buick Regal Sport Coupe (turbo)\": {\"frequency\": 1, \"value\": \"Buick Regal Sport ...\"}, \"Mercury Monarch\": {\"frequency\": 1, \"value\": \"Mercury Monarch\"}, \"AMC Concord d/l\": {\"frequency\": 1, \"value\": \"AMC Concord d/l\"}, \"Pontiac Catalina\": {\"frequency\": 3, \"value\": \"Pontiac Catalina\"}, \"Ford Fairmont 4\": {\"frequency\": 1, \"value\": \"Ford Fairmont 4\"}, \"Dodge Aspen\": {\"frequency\": 2, \"value\": \"Dodge Aspen\"}, \"Datsun PL510\": {\"frequency\": 2, \"value\": \"Datsun PL510\"}, \"Citroen DS-21 Pallas\": {\"frequency\": 1, \"value\": \"Citroen DS-21 ...\"}, \"Subaru\": {\"frequency\": 1, \"value\": \"Subaru\"}, \"Cadillac Seville\": {\"frequency\": 1, \"value\": \"Cadillac Seville\"}, \"Toyota Camry\": {\"frequency\": 1, \"value\": \"Toyota Camry\"}, \"Datsun 810\": {\"frequency\": 1, \"value\": \"Datsun 810\"}, \"Chevy C20\": {\"frequency\": 1, \"value\": \"Chevy C20\"}, \"Chevrolet Cavalier 2-door\": {\"frequency\": 1, \"value\": \"Chevrolet Cavalier ...\"}, \"Volvo 245\": {\"frequency\": 1, \"value\": \"Volvo 245\"}, \"Chevrolet Malibu Classic (sw)\": {\"frequency\": 1, \"value\": \"Chevrolet Malibu ...\"}, \"Volvo 244DL\": {\"frequency\": 1, \"value\": \"Volvo 244DL\"}, \"Peugeot 505s Turbo Diesel\": {\"frequency\": 1, \"value\": \"Peugeot 505s Turbo ...\"}, \"Plymouth Satellite Sebring\": {\"frequency\": 1, \"value\": \"Plymouth Satellite ...\"}, \"Mercury Capri v6\": {\"frequency\": 1, \"value\": \"Mercury Capri v6\"}, \"Pontiac Firebird\": {\"frequency\": 1, \"value\": \"Pontiac Firebird\"}, \"Datsun 280-ZX\": {\"frequency\": 1, \"value\": \"Datsun 280-ZX\"}, \"Dodge Monaco Brougham\": {\"frequency\": 1, \"value\": \"Dodge Monaco ...\"}, \"Datsun B210 GX\": {\"frequency\": 1, \"value\": \"Datsun B210 GX\"}, \"Mazda GLC Deluxe\": {\"frequency\": 2, \"value\": \"Mazda GLC Deluxe\"}, \"Dodge Omni\": {\"frequency\": 1, \"value\": \"Dodge Omni\"}, \"Mercury Monarch ghia\": {\"frequency\": 1, \"value\": \"Mercury Monarch ...\"}, \"Plymouth Horizon Miser\": {\"frequency\": 1, \"value\": \"Plymouth Horizon ...\"}, \"Plymouth Satellite Custom (sw)\": {\"frequency\": 1, \"value\": \"Plymouth Satellite ...\"}, \"AMC Ambassador SST\": {\"frequency\": 1, \"value\": \"AMC Ambassador SST\"}, \"Audi 100 LS\": {\"frequency\": 1, \"value\": \"Audi 100 LS\"}, \"Volkswagen Jetta\": {\"frequency\": 1, \"value\": \"Volkswagen Jetta\"}, \"Ford Mustang GL\": {\"frequency\": 1, \"value\": \"Ford Mustang GL\"}, \"Toyota Celica GT\": {\"frequency\": 1, \"value\": \"Toyota Celica GT\"}, \"Mercedes-Benz 240d\": {\"frequency\": 1, \"value\": \"Mercedes-Benz 240d\"}, \"Chevrolet Chevelle Concours (sw)\": {\"frequency\": 2, \"value\": \"Chevrolet Chevelle ...\"}, \"Ford LTD Landau\": {\"frequency\": 1, \"value\": \"Ford LTD Landau\"}, \"AMC Pacer d/l\": {\"frequency\": 1, \"value\": \"AMC Pacer d/l\"}, \"Pontiac Ventura SJ\": {\"frequency\": 1, \"value\": \"Pontiac Ventura SJ\"}, \"Ford LTD\": {\"frequency\": 2, \"value\": \"Ford LTD\"}, \"Opel Manta\": {\"frequency\": 2, \"value\": \"Opel Manta\"}, \"Renault 12tl\": {\"frequency\": 1, \"value\": \"Renault 12tl\"}, \"Ford Escort 2H\": {\"frequency\": 1, \"value\": \"Ford Escort 2H\"}, \"Dodge Colt Hatchback Custom\": {\"frequency\": 1, \"value\": \"Dodge Colt ...\"}, \"Buick Skylark\": {\"frequency\": 2, \"value\": \"Buick Skylark\"}, \"Oldsmobile Omega\": {\"frequency\": 1, \"value\": \"Oldsmobile Omega\"}, \"Fiat 128\": {\"frequency\": 1, \"value\": \"Fiat 128\"}, \"Chevrolet Chevette\": {\"frequency\": 3, \"value\": \"Chevrolet Chevette\"}, \"Fiat 131\": {\"frequency\": 1, \"value\": \"Fiat 131\"}, \"Ford Pinto\": {\"frequency\": 5, \"value\": \"Ford Pinto\"}, \"Datsun 510\": {\"frequency\": 1, \"value\": \"Datsun 510\"}, \"Chrysler Newport Royal\": {\"frequency\": 1, \"value\": \"Chrysler Newport ...\"}, \"Buick Opel Isuzu Deluxe\": {\"frequency\": 1, \"value\": \"Buick Opel Isuzu ...\"}, \"Dodge Diplomat\": {\"frequency\": 1, \"value\": \"Dodge Diplomat\"}, \"AMC Concord DL\": {\"frequency\": 1, \"value\": \"AMC Concord DL\"}, \"Ford Fiesta\": {\"frequency\": 1, \"value\": \"Ford Fiesta\"}, \"Cadillac Eldorado\": {\"frequency\": 1, \"value\": \"Cadillac Eldorado\"}, \"Volkswagen Rabbit C (Diesel)\": {\"frequency\": 1, \"value\": \"Volkswagen Rabbit ...\"}, \"Volkswagen 411 (sw)\": {\"frequency\": 1, \"value\": \"Volkswagen 411 ...\"}, \"Renault 5 GTL\": {\"frequency\": 1, \"value\": \"Renault 5 GTL\"}, \"Ford Grenada l\": {\"frequency\": 1, \"value\": \"Ford Grenada l\"}, \"Ford Galaxie 500\": {\"frequency\": 2, \"value\": \"Ford Galaxie 500\"}, \"Chevrolet Vega 2300\": {\"frequency\": 1, \"value\": \"Chevrolet Vega ...\"}, \"Plymouth Fury iii\": {\"frequency\": 2, \"value\": \"Plymouth Fury iii\"}, \"Peugeot 504\": {\"frequency\": 4, \"value\": \"Peugeot 504\"}, \"Plymouth Satellite (sw)\": {\"frequency\": 1, \"value\": \"Plymouth Satellite ...\"}, \"Toyota Tercel\": {\"frequency\": 1, \"value\": \"Toyota Tercel\"}, \"Opel 1900\": {\"frequency\": 2, \"value\": \"Opel 1900\"}, \"Saab 99e\": {\"frequency\": 1, \"value\": \"Saab 99e\"}, \"AMC Ambassador Brougham\": {\"frequency\": 1, \"value\": \"AMC Ambassador ...\"}, \"Pontiac Safari (sw)\": {\"frequency\": 1, \"value\": \"Pontiac Safari ...\"}, \"Toyota Corolla Mark ii\": {\"frequency\": 1, \"value\": \"Toyota Corolla ...\"}, \"Chrysler New Yorker Brougham\": {\"frequency\": 1, \"value\": \"Chrysler New ...\"}, \"Chevrolet Citation\": {\"frequency\": 1, \"value\": \"Chevrolet Citation\"}, \"Datsun 610\": {\"frequency\": 1, \"value\": \"Datsun 610\"}, \"Buick Estate Wagon (sw)\": {\"frequency\": 2, \"value\": \"Buick Estate Wagon ...\"}, \"Honda Civic\": {\"frequency\": 1, \"value\": \"Honda Civic\"}, \"Saab 99LE\": {\"frequency\": 1, \"value\": \"Saab 99LE\"}, \"Chevrolet C10\": {\"frequency\": 1, \"value\": \"Chevrolet C10\"}, \"Pontiac Grand Prix\": {\"frequency\": 1, \"value\": \"Pontiac Grand Prix\"}, \"Plymouth 'Cuda 340\": {\"frequency\": 1, \"value\": \"Plymouth 'Cuda 340\"}, \"AMC Hornet Sportabout (sw)\": {\"frequency\": 1, \"value\": \"AMC Hornet ...\"}, \"Buick Skylark Limited\": {\"frequency\": 1, \"value\": \"Buick Skylark ...\"}, \"Datsun 310\": {\"frequency\": 1, \"value\": \"Datsun 310\"}}, \"size\": 322}, \"Displacement\": {\"std\": 107.35141499556894, \"complete\": true, \"min\": 70.0, \"max\": 455.0, \"quantile\": [70.0, 71.0, 78.0, 79.0, 81.0, 85.0, 85.0, 86.0, 89.0, 89.0, 90.0, 91.0, 91.0, 96.0, 97.0, 97.0, 97.0, 97.0, 98.0, 98.0, 98.0, 98.0, 98.0, 101.0, 105.0, 105.0, 107.0, 108.0, 108.0, 112.0, 113.0, 114.0, 116.0, 120.0, 120.0, 120.0, 121.0, 121.0, 122.0, 130.0, 134.0, 135.0, 135.0, 140.0, 140.0, 140.0, 141.0, 145.0, 146.0, 151.0, 151.0, 155.0, 156.0, 168.0, 181.0, 199.0, 200.0, 200.0, 225.0, 225.0, 225.0, 231.0, 231.0, 232.0, 232.0, 232.0, 250.0, 250.0, 250.0, 250.0, 258.0, 258.0, 260.0, 302.0, 302.0, 302.0, 304.0, 304.0, 305.0, 307.0, 318.0, 318.0, 318.0, 318.0, 350.0, 350.0, 350.0, 350.0, 350.0, 350.0, 351.0, 360.0, 360.0, 383.0, 400.0, 400.0, 400.0, 400.0, 429.0, 454.0, 455.0], \"median\": 151.0, \"numeric\": true, \"num_unique\": 75, \"num_undefined\": 0, \"var\": 11524.326301550866, \"progress\": 1.0, \"size\": 322, \"frequent_items\": {\"97.5\": {\"frequency\": 1, \"value\": 97.5}, \"258.0\": {\"frequency\": 4, \"value\": 258.0}, \"260.0\": {\"frequency\": 3, \"value\": 260.0}, \"133.0\": {\"frequency\": 1, \"value\": 133.0}, \"390.0\": {\"frequency\": 1, \"value\": 390.0}, \"135.0\": {\"frequency\": 5, \"value\": 135.0}, \"267.0\": {\"frequency\": 1, \"value\": 267.0}, \"140.0\": {\"frequency\": 12, \"value\": 140.0}, \"130.0\": {\"frequency\": 1, \"value\": 130.0}, \"400.0\": {\"frequency\": 13, \"value\": 400.0}, \"145.0\": {\"frequency\": 1, \"value\": 145.0}, \"146.0\": {\"frequency\": 3, \"value\": 146.0}, \"350.0\": {\"frequency\": 18, \"value\": 350.0}, \"151.0\": {\"frequency\": 9, \"value\": 151.0}, \"155.0\": {\"frequency\": 1, \"value\": 155.0}, \"156.0\": {\"frequency\": 5, \"value\": 156.0}, \"231.0\": {\"frequency\": 6, \"value\": 231.0}, \"91.0\": {\"frequency\": 6, \"value\": 91.0}, \"134.0\": {\"frequency\": 4, \"value\": 134.0}, \"168.0\": {\"frequency\": 2, \"value\": 168.0}, \"171.0\": {\"frequency\": 1, \"value\": 171.0}, \"429.0\": {\"frequency\": 2, \"value\": 429.0}, \"302.0\": {\"frequency\": 7, \"value\": 302.0}, \"304.0\": {\"frequency\": 7, \"value\": 304.0}, \"305.0\": {\"frequency\": 3, \"value\": 305.0}, \"307.0\": {\"frequency\": 3, \"value\": 307.0}, \"181.0\": {\"frequency\": 1, \"value\": 181.0}, \"440.0\": {\"frequency\": 2, \"value\": 440.0}, \"104.0\": {\"frequency\": 1, \"value\": 104.0}, \"232.0\": {\"frequency\": 8, \"value\": 232.0}, \"318.0\": {\"frequency\": 13, \"value\": 318.0}, \"198.0\": {\"frequency\": 3, \"value\": 198.0}, \"262.0\": {\"frequency\": 2, \"value\": 262.0}, \"70.0\": {\"frequency\": 3, \"value\": 70.0}, \"71.0\": {\"frequency\": 2, \"value\": 71.0}, \"454.0\": {\"frequency\": 1, \"value\": 454.0}, \"76.0\": {\"frequency\": 1, \"value\": 76.0}, \"78.0\": {\"frequency\": 1, \"value\": 78.0}, \"141.0\": {\"frequency\": 2, \"value\": 141.0}, \"81.0\": {\"frequency\": 1, \"value\": 81.0}, \"340.0\": {\"frequency\": 1, \"value\": 340.0}, \"85.0\": {\"frequency\": 7, \"value\": 85.0}, \"86.0\": {\"frequency\": 3, \"value\": 86.0}, \"88.0\": {\"frequency\": 1, \"value\": 88.0}, \"89.0\": {\"frequency\": 5, \"value\": 89.0}, \"90.0\": {\"frequency\": 6, \"value\": 90.0}, \"79.0\": {\"frequency\": 5, \"value\": 79.0}, \"122.0\": {\"frequency\": 4, \"value\": 122.0}, \"199.0\": {\"frequency\": 1, \"value\": 199.0}, \"351.0\": {\"frequency\": 6, \"value\": 351.0}, \"96.0\": {\"frequency\": 1, \"value\": 96.0}, \"225.0\": {\"frequency\": 10, \"value\": 225.0}, \"98.0\": {\"frequency\": 16, \"value\": 98.0}, \"100.0\": {\"frequency\": 1, \"value\": 100.0}, \"101.0\": {\"frequency\": 1, \"value\": 101.0}, \"455.0\": {\"frequency\": 3, \"value\": 455.0}, \"97.0\": {\"frequency\": 14, \"value\": 97.0}, \"360.0\": {\"frequency\": 5, \"value\": 360.0}, \"105.0\": {\"frequency\": 6, \"value\": 105.0}, \"144.0\": {\"frequency\": 1, \"value\": 144.0}, \"107.0\": {\"frequency\": 4, \"value\": 107.0}, \"108.0\": {\"frequency\": 5, \"value\": 108.0}, \"110.0\": {\"frequency\": 1, \"value\": 110.0}, \"111.0\": {\"frequency\": 1, \"value\": 111.0}, \"112.0\": {\"frequency\": 3, \"value\": 112.0}, \"113.0\": {\"frequency\": 3, \"value\": 113.0}, \"114.0\": {\"frequency\": 1, \"value\": 114.0}, \"115.0\": {\"frequency\": 1, \"value\": 115.0}, \"116.0\": {\"frequency\": 4, \"value\": 116.0}, \"119.0\": {\"frequency\": 1, \"value\": 119.0}, \"120.0\": {\"frequency\": 7, \"value\": 120.0}, \"121.0\": {\"frequency\": 8, \"value\": 121.0}, \"250.0\": {\"frequency\": 15, \"value\": 250.0}, \"200.0\": {\"frequency\": 8, \"value\": 200.0}, \"383.0\": {\"frequency\": 2, \"value\": 383.0}}, \"mean\": 200.417701863354}, \"Horsepower\": {\"std\": 41.80104946288369, \"complete\": true, \"min\": 0.0, \"max\": 230.0, \"quantile\": [0.0, 0.0, 48.0, 52.0, 54.0, 60.0, 62.0, 63.0, 65.0, 65.0, 65.0, 67.0, 68.0, 68.0, 70.0, 70.0, 70.0, 71.0, 71.0, 72.0, 74.0, 75.0, 75.0, 75.0, 75.0, 76.0, 76.0, 78.0, 80.0, 80.0, 81.0, 83.0, 84.0, 85.0, 85.0, 85.0, 86.0, 87.0, 88.0, 88.0, 88.0, 88.0, 89.0, 90.0, 90.0, 90.0, 90.0, 90.0, 92.0, 93.0, 95.0, 95.0, 95.0, 95.0, 96.0, 97.0, 97.0, 100.0, 100.0, 100.0, 100.0, 102.0, 105.0, 105.0, 105.0, 110.0, 110.0, 110.0, 110.0, 112.0, 113.0, 115.0, 120.0, 125.0, 130.0, 135.0, 139.0, 140.0, 145.0, 145.0, 149.0, 150.0, 150.0, 150.0, 150.0, 150.0, 150.0, 155.0, 160.0, 165.0, 165.0, 170.0, 175.0, 175.0, 180.0, 180.0, 190.0, 198.0, 215.0, 225.0, 230.0], \"median\": 95.0, \"numeric\": true, \"num_unique\": 82, \"num_undefined\": 0, \"var\": 1747.3277361984487, \"progress\": 1.0, \"size\": 322, \"frequent_items\": {\"0\": {\"frequency\": 6, \"value\": 0}, \"129\": {\"frequency\": 1, \"value\": 129}, \"130\": {\"frequency\": 3, \"value\": 130}, \"132\": {\"frequency\": 1, \"value\": 132}, \"135\": {\"frequency\": 1, \"value\": 135}, \"137\": {\"frequency\": 1, \"value\": 137}, \"139\": {\"frequency\": 2, \"value\": 139}, \"140\": {\"frequency\": 4, \"value\": 140}, \"142\": {\"frequency\": 1, \"value\": 142}, \"145\": {\"frequency\": 6, \"value\": 145}, \"148\": {\"frequency\": 1, \"value\": 148}, \"149\": {\"frequency\": 1, \"value\": 149}, \"150\": {\"frequency\": 20, \"value\": 150}, \"152\": {\"frequency\": 1, \"value\": 152}, \"153\": {\"frequency\": 1, \"value\": 153}, \"155\": {\"frequency\": 2, \"value\": 155}, \"158\": {\"frequency\": 1, \"value\": 158}, \"160\": {\"frequency\": 2, \"value\": 160}, \"165\": {\"frequency\": 5, \"value\": 165}, \"65\": {\"frequency\": 10, \"value\": 65}, \"167\": {\"frequency\": 1, \"value\": 167}, \"92\": {\"frequency\": 4, \"value\": 92}, \"170\": {\"frequency\": 4, \"value\": 170}, \"70\": {\"frequency\": 9, \"value\": 70}, \"175\": {\"frequency\": 7, \"value\": 175}, \"48\": {\"frequency\": 2, \"value\": 48}, \"72\": {\"frequency\": 5, \"value\": 72}, \"180\": {\"frequency\": 5, \"value\": 180}, \"53\": {\"frequency\": 1, \"value\": 53}, \"54\": {\"frequency\": 1, \"value\": 54}, \"215\": {\"frequency\": 3, \"value\": 215}, \"52\": {\"frequency\": 3, \"value\": 52}, \"58\": {\"frequency\": 1, \"value\": 58}, \"60\": {\"frequency\": 5, \"value\": 60}, \"190\": {\"frequency\": 3, \"value\": 190}, \"63\": {\"frequency\": 2, \"value\": 63}, \"193\": {\"frequency\": 1, \"value\": 193}, \"66\": {\"frequency\": 1, \"value\": 66}, \"67\": {\"frequency\": 4, \"value\": 67}, \"68\": {\"frequency\": 5, \"value\": 68}, \"69\": {\"frequency\": 2, \"value\": 69}, \"198\": {\"frequency\": 2, \"value\": 198}, \"71\": {\"frequency\": 5, \"value\": 71}, \"200\": {\"frequency\": 1, \"value\": 200}, \"74\": {\"frequency\": 3, \"value\": 74}, \"75\": {\"frequency\": 13, \"value\": 75}, \"76\": {\"frequency\": 4, \"value\": 76}, \"78\": {\"frequency\": 5, \"value\": 78}, \"79\": {\"frequency\": 1, \"value\": 79}, \"80\": {\"frequency\": 5, \"value\": 80}, \"81\": {\"frequency\": 2, \"value\": 81}, \"83\": {\"frequency\": 3, \"value\": 83}, \"84\": {\"frequency\": 6, \"value\": 84}, \"85\": {\"frequency\": 9, \"value\": 85}, \"86\": {\"frequency\": 4, \"value\": 86}, \"87\": {\"frequency\": 2, \"value\": 87}, \"88\": {\"frequency\": 14, \"value\": 88}, \"89\": {\"frequency\": 1, \"value\": 89}, \"90\": {\"frequency\": 16, \"value\": 90}, \"91\": {\"frequency\": 1, \"value\": 91}, \"220\": {\"frequency\": 1, \"value\": 220}, \"93\": {\"frequency\": 1, \"value\": 93}, \"94\": {\"frequency\": 1, \"value\": 94}, \"95\": {\"frequency\": 13, \"value\": 95}, \"96\": {\"frequency\": 2, \"value\": 96}, \"97\": {\"frequency\": 7, \"value\": 97}, \"98\": {\"frequency\": 1, \"value\": 98}, \"100\": {\"frequency\": 14, \"value\": 100}, \"102\": {\"frequency\": 1, \"value\": 102}, \"230\": {\"frequency\": 1, \"value\": 230}, \"105\": {\"frequency\": 10, \"value\": 105}, \"107\": {\"frequency\": 1, \"value\": 107}, \"108\": {\"frequency\": 1, \"value\": 108}, \"110\": {\"frequency\": 13, \"value\": 110}, \"112\": {\"frequency\": 3, \"value\": 112}, \"113\": {\"frequency\": 1, \"value\": 113}, \"115\": {\"frequency\": 3, \"value\": 115}, \"62\": {\"frequency\": 2, \"value\": 62}, \"120\": {\"frequency\": 4, \"value\": 120}, \"225\": {\"frequency\": 3, \"value\": 225}, \"122\": {\"frequency\": 1, \"value\": 122}, \"125\": {\"frequency\": 2, \"value\": 125}}, \"mean\": 105.23291925465833}, \"Origin\": {\"complete\": true, \"numeric\": false, \"num_unique\": 3, \"num_undefined\": 0, \"progress\": 1.0, \"frequent_items\": {\"Europe\": {\"frequency\": 57, \"value\": \"Europe\"}, \"Japan\": {\"frequency\": 58, \"value\": \"Japan\"}, \"US\": {\"frequency\": 207, \"value\": \"US\"}}, \"size\": 322}, \"Model\": {\"std\": 3.6908797934823627, \"complete\": true, \"min\": 70.0, \"max\": 82.0, \"quantile\": [70.0, 70.0, 70.0, 70.0, 70.0, 70.0, 70.0, 70.0, 70.0, 70.0, 71.0, 71.0, 71.0, 71.0, 71.0, 71.0, 71.0, 71.0, 72.0, 72.0, 72.0, 72.0, 72.0, 72.0, 72.0, 73.0, 73.0, 73.0, 73.0, 73.0, 73.0, 73.0, 73.0, 73.0, 73.0, 73.0, 74.0, 74.0, 74.0, 74.0, 74.0, 74.0, 74.0, 75.0, 75.0, 75.0, 75.0, 75.0, 75.0, 75.0, 76.0, 76.0, 76.0, 76.0, 76.0, 76.0, 76.0, 76.0, 76.0, 77.0, 77.0, 77.0, 77.0, 77.0, 77.0, 77.0, 78.0, 78.0, 78.0, 78.0, 78.0, 78.0, 78.0, 78.0, 78.0, 79.0, 79.0, 79.0, 79.0, 79.0, 79.0, 79.0, 80.0, 80.0, 80.0, 80.0, 80.0, 81.0, 81.0, 81.0, 81.0, 81.0, 81.0, 81.0, 82.0, 82.0, 82.0, 82.0, 82.0, 82.0, 82.0], \"median\": 76.0, \"numeric\": true, \"num_unique\": 13, \"num_undefined\": 0, \"var\": 13.622593649936407, \"progress\": 1.0, \"size\": 322, \"frequent_items\": {\"70\": {\"frequency\": 30, \"value\": 70}, \"71\": {\"frequency\": 25, \"value\": 71}, \"72\": {\"frequency\": 24, \"value\": 72}, \"73\": {\"frequency\": 36, \"value\": 73}, \"74\": {\"frequency\": 22, \"value\": 74}, \"75\": {\"frequency\": 23, \"value\": 75}, \"76\": {\"frequency\": 28, \"value\": 76}, \"77\": {\"frequency\": 23, \"value\": 77}, \"78\": {\"frequency\": 28, \"value\": 78}, \"79\": {\"frequency\": 23, \"value\": 79}, \"80\": {\"frequency\": 18, \"value\": 80}, \"81\": {\"frequency\": 21, \"value\": 81}, \"82\": {\"frequency\": 21, \"value\": 82}}, \"mean\": 75.61180124223603}}, \"selected_variable\": {\"name\": [\"train\"], \"descriptives\": {\"rows\": 322, \"columns\": 9}, \"view_component\": \"Summary\", \"view_file\": \"sframe\", \"view_params\": {\"y\": null, \"x\": null, \"columns\": [\"Car\", \"MPG\", \"Cylinders\", \"Displacement\", \"Horsepower\", \"Weight\", \"Acceleration\", \"Model\", \"Origin\"], \"view\": null}, \"view_components\": [\"Summary\", \"Table\", \"Bar Chart\", \"BoxWhisker Plot\", \"Line Chart\", \"Scatter Plot\", \"Heat Map\", \"Plots\"], \"type\": \"SFrame\", \"columns\": [{\"dtype\": \"str\", \"name\": \"Car\"}, {\"dtype\": \"int\", \"name\": \"MPG\"}, {\"dtype\": \"int\", \"name\": \"Cylinders\"}, {\"dtype\": \"float\", \"name\": \"Displacement\"}, {\"dtype\": \"int\", \"name\": \"Horsepower\"}, {\"dtype\": \"int\", \"name\": \"Weight\"}, {\"dtype\": \"float\", \"name\": \"Acceleration\"}, {\"dtype\": \"int\", \"name\": \"Model\"}, {\"dtype\": \"str\", \"name\": \"Origin\"}], \"column_identifiers\": [\"Acceleration\", \"MPG\", \"Cylinders\", \"Weight\", \"Car\", \"Displacement\", \"Horsepower\", \"Origin\", \"Model\"]}, \"columns\": [{\"dtype\": \"str\", \"name\": \"Car\"}, {\"dtype\": \"int\", \"name\": \"MPG\"}, {\"dtype\": \"int\", \"name\": \"Cylinders\"}, {\"dtype\": \"float\", \"name\": \"Displacement\"}, {\"dtype\": \"int\", \"name\": \"Horsepower\"}, {\"dtype\": \"int\", \"name\": \"Weight\"}, {\"dtype\": \"float\", \"name\": \"Acceleration\"}, {\"dtype\": \"int\", \"name\": \"Model\"}, {\"dtype\": \"str\", \"name\": \"Origin\"}]}, e);\n",
       "                });\n",
       "            })();\n",
       "        "
      ]
     },
     "metadata": {},
     "output_type": "display_data"
    }
   ],
   "source": [
    "train.show()"
   ]
  },
  {
   "cell_type": "code",
   "execution_count": 34,
   "metadata": {
    "collapsed": false
   },
   "outputs": [],
   "source": [
    "eva = model.evaluate(test)"
   ]
  },
  {
   "cell_type": "code",
   "execution_count": 35,
   "metadata": {
    "collapsed": true
   },
   "outputs": [],
   "source": [
    "train_eva= model.evaluate(train)"
   ]
  },
  {
   "cell_type": "code",
   "execution_count": 36,
   "metadata": {
    "collapsed": false
   },
   "outputs": [
    {
     "data": {
      "text/plain": [
       "{'max_error': 51.97691345214844, 'rmse': 12.116076606997414}"
      ]
     },
     "execution_count": 36,
     "metadata": {},
     "output_type": "execute_result"
    }
   ],
   "source": [
    "eva"
   ]
  },
  {
   "cell_type": "code",
   "execution_count": 38,
   "metadata": {
    "collapsed": false
   },
   "outputs": [
    {
     "name": "stdout",
     "output_type": "stream",
     "text": [
      "{'max_error': 59.016780853271484, 'rmse': 10.654771087920139}\n"
     ]
    }
   ],
   "source": [
    "print train_eva"
   ]
  },
  {
   "cell_type": "code",
   "execution_count": 41,
   "metadata": {
    "collapsed": true
   },
   "outputs": [],
   "source": [
    "prediction=model.predict(test)"
   ]
  },
  {
   "cell_type": "code",
   "execution_count": 42,
   "metadata": {
    "collapsed": false
   },
   "outputs": [
    {
     "data": {
      "text/plain": [
       "dtype: float\n",
       "Rows: 84\n",
       "[166.7550811767578, 148.23130798339844, 35.5676155090332, 91.39177703857422, 158.02308654785156, 59.93537902832031, 124.49800872802734, 85.7153091430664, 54.786190032958984, 151.31809997558594, 200.3963623046875, 136.44566345214844, 74.23450469970703, 149.86964416503906, 59.35909652709961, 95.43242645263672, 59.93537902832031, 78.04442596435547, 101.0516128540039, 146.0917510986328, 162.95960998535156, 45.36570739746094, 97.93313598632812, 156.95481872558594, 96.31723022460938, 106.68498992919922, 118.38438415527344, 78.04442596435547, 78.04442596435547, 91.0829086303711, 65.76326751708984, 52.800453186035156, 101.0516128540039, 136.7068634033203, 132.94357299804688, 82.96892547607422, 64.78304290771484, 97.96748352050781, 65.01956939697266, 111.51311492919922, 91.39177703857422, 89.02605438232422, 135.8707733154297, 89.5869369506836, 88.12728881835938, 102.15902709960938, 87.1683120727539, 100.1228256225586, 132.94357299804688, 136.7068634033203, 91.39177703857422, 90.88467407226562, 118.41683197021484, 115.19718170166016, 74.23450469970703, 73.94444274902344, 70.47455596923828, 57.77515411376953, 89.5869369506836, 59.13616180419922, 75.03673553466797, 69.02764129638672, 69.2336196899414, 89.5869369506836, 77.6681900024414, 115.19718170166016, 59.57897186279297, 65.01956939697266, 66.00408935546875, 76.47083282470703, 89.5869369506836, 95.43242645263672, 115.19718170166016, 100.1228256225586, 78.04442596435547, 58.0045166015625, 74.23450469970703, 68.64970397949219, 64.6204833984375, 65.01956939697266, 89.5869369506836, 57.88410186767578, 78.04442596435547, 75.67804718017578]"
      ]
     },
     "execution_count": 42,
     "metadata": {},
     "output_type": "execute_result"
    }
   ],
   "source": [
    "prediction"
   ]
  },
  {
   "cell_type": "code",
   "execution_count": 45,
   "metadata": {
    "collapsed": false
   },
   "outputs": [
    {
     "data": {
      "text/plain": [
       "dtype: float\n",
       "Rows: 25\n",
       "[166.7550811767578, 148.23130798339844, 35.5676155090332, 91.39177703857422, 158.02308654785156, 59.93537902832031, 124.49800872802734, 85.7153091430664, 54.786190032958984, 151.31809997558594, 200.3963623046875, 136.44566345214844, 74.23450469970703, 149.86964416503906, 59.35909652709961, 95.43242645263672, 59.93537902832031, 78.04442596435547, 101.0516128540039, 146.0917510986328, 162.95960998535156, 45.36570739746094, 97.93313598632812, 156.95481872558594, 96.31723022460938]"
      ]
     },
     "execution_count": 45,
     "metadata": {},
     "output_type": "execute_result"
    }
   ],
   "source": [
    "prediction[:25] "
   ]
  }
 ],
 "metadata": {
  "kernelspec": {
   "display_name": "Python 2",
   "language": "python",
   "name": "python2"
  },
  "language_info": {
   "codemirror_mode": {
    "name": "ipython",
    "version": 2
   },
   "file_extension": ".py",
   "mimetype": "text/x-python",
   "name": "python",
   "nbconvert_exporter": "python",
   "pygments_lexer": "ipython2",
   "version": "2.7.13"
  }
 },
 "nbformat": 4,
 "nbformat_minor": 0
}
